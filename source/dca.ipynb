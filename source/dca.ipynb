{
 "cells": [
  {
   "cell_type": "markdown",
   "metadata": {},
   "source": [
    "# Implementing DCA in pytorch\n",
    "\n",
    "Source CC function in [seqmodel](https://github.com/sokrypton/seqmodels/blob/master/seqmodels.ipynb)\n",
    "Reimplemeting tensorflow code in pytorch. We will try to stick with the same variables as seqmodels."
   ]
  },
  {
   "cell_type": "code",
   "execution_count": 1,
   "metadata": {},
   "outputs": [],
   "source": [
    "import torch\n",
    "\n",
    "import read_config\n",
    "from dataloader import MSADataset, OneHotTransform"
   ]
  },
  {
   "cell_type": "code",
   "execution_count": 2,
   "metadata": {},
   "outputs": [
    {
     "data": {
      "text/plain": [
       "(14441, 559)"
      ]
     },
     "execution_count": 2,
     "metadata": {},
     "output_type": "execute_result"
    }
   ],
   "source": [
    "config = read_config.Config(\"../config_dca.yaml\")\n",
    "dataset = MSADataset(config.aligned_msa_fullpath, transform=OneHotTransform(21, flatten=False))\n",
    "\n",
    "N = len(dataset)\n",
    "\n",
    "protein_seq, weight = dataset[0]\n",
    "ncat = 21\n",
    "L = protein_seq.shape[0]\n",
    "ncol = L\n",
    "\n",
    "N, L"
   ]
  },
  {
   "cell_type": "code",
   "execution_count": 3,
   "metadata": {},
   "outputs": [
    {
     "data": {
      "text/plain": [
       "torch.Size([559, 21])"
      ]
     },
     "execution_count": 3,
     "metadata": {},
     "output_type": "execute_result"
    }
   ],
   "source": [
    "protein_seq.shape"
   ]
  },
  {
   "cell_type": "code",
   "execution_count": 4,
   "metadata": {},
   "outputs": [
    {
     "data": {
      "text/plain": [
       "(559, 21)"
      ]
     },
     "execution_count": 4,
     "metadata": {},
     "output_type": "execute_result"
    }
   ],
   "source": [
    "ncol, ncat"
   ]
  },
  {
   "cell_type": "code",
   "execution_count": 5,
   "metadata": {},
   "outputs": [
    {
     "name": "stdout",
     "output_type": "stream",
     "text": [
      "Data.shape = torch.Size([14441, 559, 21])\n",
      "Weights.shape = torch.Size([14441])\n"
     ]
    }
   ],
   "source": [
    "batch_size = config.batch_size\n",
    "if batch_size <= 0:\n",
    "    batch_size = N # entire dataset in one batch\n",
    "msa = torch.utils.data.DataLoader(dataset, batch_size)\n",
    "\n",
    "for _, msa_data in enumerate(msa):\n",
    "    msa  = msa_data[0]\n",
    "    msa_weights = msa_data[1]\n",
    "    break\n",
    "    \n",
    "print(f\"Data.shape = {msa.shape}\")\n",
    "print(f\"Weights.shape = {msa_weights.shape}\")"
   ]
  },
  {
   "cell_type": "code",
   "execution_count": 6,
   "metadata": {},
   "outputs": [],
   "source": [
    "device = config.device"
   ]
  },
  {
   "cell_type": "code",
   "execution_count": 7,
   "metadata": {},
   "outputs": [],
   "source": [
    "msa_cat = msa.argmax(dim=2) # type LongTensor\n",
    "\n",
    "msa = msa.to(device)\n",
    "msa_cat = msa_cat.to(device)\n",
    "msa_weights= msa_weights.to(device)"
   ]
  },
  {
   "cell_type": "code",
   "execution_count": 8,
   "metadata": {},
   "outputs": [],
   "source": [
    "class DCA(torch.nn.Module):\n",
    "    \n",
    "    def __init__(self, Neff, ncol, lam_w=0.01, lam_b=0.01, b_ini=None):\n",
    "        super().__init__()\n",
    "        # weights\n",
    "        self.w = torch.nn.Parameter(torch.zeros((ncol, ncat, ncol, ncat), \n",
    "                        dtype=torch.float, requires_grad=True))\n",
    "        # biases\n",
    "        if b_ini is None:\n",
    "            b_ini = torch.zeros((ncol, ncat), dtype=torch.float)\n",
    "        self.bias = torch.nn.Parameter(b_ini.clone().detach().requires_grad_(True))\n",
    "\n",
    "        self.Neff = Neff\n",
    "        self.lam_w = lam_w\n",
    "        self.lam_b = lam_b\n",
    "        self.ncol = ncol\n",
    "        #self.weights = None\n",
    "        \n",
    "    def forward(self, x):\n",
    "        \"\"\"Predictions are going to be MSA logits\n",
    "            We also calculate the regularization penalties here (FIXME)\n",
    "        \"\"\"\n",
    "        x_msa = x\n",
    "        # we do not want weights between the various nodes in a given position. \n",
    "        # i.e. weights between nodes (i, a) and (j, b) only exist if i not = j\n",
    "        # so set these weights to zero\n",
    "        w_eye = self.w * torch.reshape(1 - torch.eye(self.ncol), \n",
    "                                       (self.ncol,1,self.ncol, 1))\n",
    "        # symmetrize w so that the weight between (i,a) and (j, b) is the\n",
    "        # same as the weight between (j, b) and (i, a)\n",
    "        self.weights = w_eye + w_eye.permute(2,3,0,1)\n",
    "        x_logit = torch.tensordot(x_msa, self.weights, 2) + self.bias\n",
    "        return x_logit \n",
    "\n",
    "    def calc_reg_w(self):\n",
    "        return self.lam_w * \\\n",
    "                    torch.sum(torch.mul(self.weights, self.weights)) * \\\n",
    "                    0.5 * (self.ncol-1) * 20.0 \n",
    "    \n",
    "    def calc_reg_b(self):\n",
    "        return self.lam_b * torch.sum(torch.mul(self.bias, self.bias))\n",
    "    \n",
    "    def create_dca_model(msa, msa_weights, device):\n",
    "        \"\"\"Factory function to create a model with a pseudocount bias term\"\"\"\n",
    "\n",
    "        with torch.no_grad():\n",
    "            msa = msa.to(device)\n",
    "            msa_weights = msa_weights.to(device)\n",
    "\n",
    "            # Integer representation of protein (instead of one-hot)\n",
    "            # Here each protein is represented as a number from 0 - 20\n",
    "            # We need this for crossentropy\n",
    "            msa_cat = msa.argmax(dim=2) # type LongTensor\n",
    "\n",
    "            # Number of effective sequences\n",
    "            Neff = torch.sum(msa_weights) \n",
    "\n",
    "            # start bias with b_ini instead of zeros\n",
    "            pseudo_count = 0.01 * torch.log(Neff)\n",
    "            b_ini = torch.log(torch.sum(msa.T * msa_weights, axis=-1).T + pseudo_count)\n",
    "            b_ini = b_ini - torch.mean(b_ini, -1, keepdim=True)\n",
    "            \n",
    "            return DCA(Neff=Neff, ncol=ncol, b_ini=b_ini)\n",
    "    \n",
    "model = DCA.create_dca_model(msa, msa_weights, device)\n",
    "model.to(device)\n",
    "\n",
    "# Tell the optimizer which weights we want to update\n",
    "optimizer = torch.optim.Adam(model.parameters(), lr=config.learning_rate)"
   ]
  },
  {
   "cell_type": "code",
   "execution_count": 9,
   "metadata": {},
   "outputs": [],
   "source": [
    "def create_loss_function():\n",
    "    ce_loss_func = torch.nn.CrossEntropyLoss(reduction='none')\n",
    "    \n",
    "    def calc_loss(x_logit, x_cat, x_weights, model):\n",
    "        loss_ce = ce_loss_func(x_logit.permute(0,2,1), x_cat)\n",
    "        loss_ce = loss_ce.sum(dim=-1)\n",
    "        loss_ce = (loss_ce * x_weights).sum()\n",
    "\n",
    "        reg = model.calc_reg_w() + model.calc_reg_b()\n",
    "    \n",
    "        loss = (loss_ce + reg) / model.Neff\n",
    "        return loss\n",
    "    return calc_loss"
   ]
  },
  {
   "cell_type": "code",
   "execution_count": 10,
   "metadata": {},
   "outputs": [],
   "source": [
    "def make_train_step(model, loss_fn, optimizer):\n",
    "    # Builds function that performs a step in the train loop\n",
    "    def train_step(x, x_weights, x_cat):\n",
    "        # Sets model to TRAIN mode\n",
    "        model.train()\n",
    "        # Makes predictions\n",
    "        x_logit = model(x)\n",
    "        # Computes loss\n",
    "        loss = loss_fn(x_logit, x_cat, x_weights, model)\n",
    "        # Computes gradients\n",
    "        loss.backward()\n",
    "        # Updates parameters and zeroes gradients\n",
    "        optimizer.step()\n",
    "        optimizer.zero_grad()\n",
    "        # Returns the loss\n",
    "        return loss.item()\n",
    "    \n",
    "    # Returns the function that will be called inside the train loop\n",
    "    return train_step\n",
    "\n",
    "train_step = make_train_step(model, create_loss_function(), optimizer)"
   ]
  },
  {
   "cell_type": "code",
   "execution_count": 11,
   "metadata": {},
   "outputs": [
    {
     "name": "stdout",
     "output_type": "stream",
     "text": [
      "0 951.436279296875\n",
      "1 787.1755981445312\n",
      "2 690.6675415039062\n",
      "3 628.7225341796875\n",
      "4 585.6104125976562\n",
      "5 554.2444458007812\n",
      "6 530.35986328125\n",
      "7 511.4407653808594\n",
      "8 495.9153747558594\n",
      "9 482.745849609375\n",
      "10 471.2301330566406\n",
      "11 461.0218200683594\n",
      "12 451.8956298828125\n",
      "13 443.6158752441406\n",
      "14 436.03558349609375\n",
      "15 429.0606689453125\n",
      "16 422.61474609375\n",
      "17 416.6512145996094\n",
      "18 411.1168212890625\n",
      "19 405.96746826171875\n",
      "20 401.1649475097656\n",
      "21 396.6786804199219\n",
      "22 392.4954528808594\n",
      "23 388.60504150390625\n",
      "24 384.99456787109375\n",
      "25 381.6486511230469\n",
      "26 378.5497741699219\n",
      "27 375.6768798828125\n",
      "28 373.0081481933594\n",
      "29 370.5240783691406\n",
      "30 368.2079162597656\n",
      "31 366.04315185546875\n",
      "32 364.0150146484375\n",
      "33 362.1128234863281\n",
      "34 360.3292236328125\n",
      "35 358.6579895019531\n",
      "36 357.0929260253906\n",
      "37 355.6273498535156\n",
      "38 354.2540588378906\n",
      "39 352.9657897949219\n",
      "40 351.7550354003906\n",
      "41 350.614501953125\n",
      "42 349.5377197265625\n",
      "43 348.51885986328125\n",
      "44 347.5535888671875\n",
      "45 346.63818359375\n",
      "46 345.770263671875\n",
      "47 344.9470520019531\n",
      "48 344.165771484375\n",
      "49 343.4236755371094\n"
     ]
    }
   ],
   "source": [
    "num_epochs = config.epochs\n",
    "#num_epochs = 10\n",
    "losses = []\n",
    "for epoch in range(num_epochs):\n",
    "    loss = train_step(msa, msa_weights, msa_cat)\n",
    "    losses.append(loss)\n",
    "    print(epoch, loss)"
   ]
  },
  {
   "cell_type": "code",
   "execution_count": 12,
   "metadata": {},
   "outputs": [
    {
     "data": {
      "image/png": "[encoded data removed]",
      "text/plain": [
       "<Figure size 432x288 with 1 Axes>"
      ]
     },
     "metadata": {
      "needs_background": "light"
     },
     "output_type": "display_data"
    }
   ],
   "source": [
    "import matplotlib.pyplot as plt\n",
    "plt.plot(losses, \"o-\")\n",
    "plt.xlabel(\"Epoch\")\n",
    "plt.ylabel(\"Loss\")\n",
    "plt.title(\"Loss Curve\")\n",
    "bbox = dict(boxstyle=\"round\", fc=\"0.8\")\n",
    "plt.annotate(str(optimizer), (0.5, 0.5), xycoords='axes fraction',\n",
    "            bbox=bbox);"
   ]
  }
 ],
 "metadata": {
  "kernelspec": {
   "display_name": "Pytorch",
   "language": "python",
   "name": "pytorch"
  },
  "language_info": {
   "codemirror_mode": {
    "name": "ipython",
    "version": 3
   },
   "file_extension": ".py",
   "mimetype": "text/x-python",
   "name": "python",
   "nbconvert_exporter": "python",
   "pygments_lexer": "ipython3",
   "version": "3.6.10"
  }
 },
 "nbformat": 4,
 "nbformat_minor": 2
}
