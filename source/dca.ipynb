{
 "cells": [
  {
   "cell_type": "markdown",
   "metadata": {},
   "source": [
    "# Implementing DCA in pytorch\n",
    "\n",
    "Source CC function in [seqmodel](https://github.com/sokrypton/seqmodels/blob/master/seqmodels.ipynb)\n",
    "Reimplemeting tensorflow code in pytorch"
   ]
  },
  {
   "cell_type": "code",
   "execution_count": 1,
   "metadata": {},
   "outputs": [],
   "source": [
    "import numpy as np\n",
    "import torch\n",
    "\n",
    "import read_config\n",
    "from dataloader import MSADataset, OneHotTransform"
   ]
  },
  {
   "cell_type": "code",
   "execution_count": 2,
   "metadata": {},
   "outputs": [
    {
     "data": {
      "text/plain": [
       "(14441, 559)"
      ]
     },
     "execution_count": 2,
     "metadata": {},
     "output_type": "execute_result"
    }
   ],
   "source": [
    "config = read_config.Config(\"../config_dca.yaml\")\n",
    "dataset = MSADataset(config.aligned_msa_fullpath, transform=OneHotTransform(21, flatten=False))\n",
    "\n",
    "N = len(dataset)\n",
    "\n",
    "protein_seq, weight = dataset[0]\n",
    "ncat = 21\n",
    "L = protein_seq.shape[0]\n",
    "ncol = L\n",
    "\n",
    "N, L"
   ]
  },
  {
   "cell_type": "code",
   "execution_count": 3,
   "metadata": {},
   "outputs": [
    {
     "data": {
      "text/plain": [
       "torch.Size([559, 21])"
      ]
     },
     "execution_count": 3,
     "metadata": {},
     "output_type": "execute_result"
    }
   ],
   "source": [
    "protein_seq.shape"
   ]
  },
  {
   "cell_type": "code",
   "execution_count": 4,
   "metadata": {},
   "outputs": [
    {
     "data": {
      "text/plain": [
       "(559, 21)"
      ]
     },
     "execution_count": 4,
     "metadata": {},
     "output_type": "execute_result"
    }
   ],
   "source": [
    "ncol, ncat"
   ]
  },
  {
   "cell_type": "code",
   "execution_count": 5,
   "metadata": {},
   "outputs": [],
   "source": [
    "# L2 regularization\n",
    "lam_w = 0.1\n",
    "lam_b = 0.1"
   ]
  },
  {
   "cell_type": "code",
   "execution_count": 6,
   "metadata": {},
   "outputs": [
    {
     "name": "stdout",
     "output_type": "stream",
     "text": [
      "Data.shape = torch.Size([14441, 559, 21])\n",
      "Weights.shape = torch.Size([14441])\n"
     ]
    }
   ],
   "source": [
    "batch_size = config.batch_size\n",
    "if batch_size <= 0:\n",
    "    batch_size = N # entire dataset in one batch\n",
    "msa = torch.utils.data.DataLoader(dataset, batch_size)\n",
    "\n",
    "for _, msa_data in enumerate(msa):\n",
    "    data  = msa_data[0]\n",
    "    seq_weights = msa_data[1]\n",
    "    break\n",
    "    \n",
    "print(f\"Data.shape = {data.shape}\")\n",
    "print(f\"Weights.shape = {seq_weights.shape}\")"
   ]
  },
  {
   "cell_type": "code",
   "execution_count": 7,
   "metadata": {},
   "outputs": [],
   "source": [
    "device = config.device"
   ]
  },
  {
   "cell_type": "code",
   "execution_count": 8,
   "metadata": {},
   "outputs": [],
   "source": [
    "bias = torch.zeros((ncol,ncat), dtype=torch.float, requires_grad=True, device=device)\n",
    "w = torch.zeros((ncol, ncat, ncol, ncat), dtype=torch.float, requires_grad=True, device=device)\n",
    "\n",
    "num_epochs = config.epochs\n",
    "#num_epochs = 10\n",
    "\n",
    "# Tell the optimizer which weights we want to update\n",
    "optimizer = torch.optim.Adam([bias, w], lr=config.learning_rate)\n",
    "ce_loss_func = torch.nn.CrossEntropyLoss(reduction='none')"
   ]
  },
  {
   "cell_type": "code",
   "execution_count": 9,
   "metadata": {},
   "outputs": [],
   "source": [
    "data = data.to(device)\n",
    "seq_weights = seq_weights.to(device)\n",
    "\n",
    "# This is the number of effective sequences if the batch size is the full dataset\n",
    "sum_seq_weights = torch.sum(seq_weights)"
   ]
  },
  {
   "cell_type": "code",
   "execution_count": 10,
   "metadata": {},
   "outputs": [
    {
     "name": "stdout",
     "output_type": "stream",
     "text": [
      "Epoch=00, Loss=1701.88\n",
      "Epoch=01, Loss=1157.40\n",
      "Epoch=02, Loss=894.21\n",
      "Epoch=03, Loss=811.83\n",
      "Epoch=04, Loss=794.93\n",
      "Epoch=05, Loss=788.76\n",
      "Epoch=06, Loss=778.07\n",
      "Epoch=07, Loss=762.48\n",
      "Epoch=08, Loss=745.49\n",
      "Epoch=09, Loss=729.81\n",
      "Epoch=10, Loss=716.27\n",
      "Epoch=11, Loss=704.42\n",
      "Epoch=12, Loss=693.39\n",
      "Epoch=13, Loss=682.58\n",
      "Epoch=14, Loss=671.86\n",
      "Epoch=15, Loss=661.51\n",
      "Epoch=16, Loss=651.98\n",
      "Epoch=17, Loss=643.54\n",
      "Epoch=18, Loss=636.28\n",
      "Epoch=19, Loss=629.96\n",
      "Epoch=20, Loss=624.31\n",
      "Epoch=21, Loss=619.03\n",
      "Epoch=22, Loss=613.97\n",
      "Epoch=23, Loss=609.17\n",
      "Epoch=24, Loss=604.73\n"
     ]
    },
    {
     "data": {
      "image/png": "[encoded data removed]",
      "text/plain": [
       "<Figure size 432x288 with 1 Axes>"
      ]
     },
     "metadata": {
      "needs_background": "light"
     },
     "output_type": "display_data"
    }
   ],
   "source": [
    "losses = []\n",
    "for epoch in range(num_epochs):\n",
    "    \n",
    "    # we do not want weights between the various nodes in a given position. \n",
    "    # i.e. weights between nodes (i, a) and (j, b) only exist if i not = j\n",
    "    # so set these weights to zero\n",
    "    w_eye = w * torch.reshape(1 - torch.eye(ncol), (ncol,1,ncol, 1))\n",
    "    # symmetrize w so that the weight between (i,a) and (j, b) is the\n",
    "    # same as the weight between (j, b) and (i, a)\n",
    "    weights = w_eye + w_eye.permute(2,3,0,1)\n",
    "    \n",
    "    data_logit = torch.tensordot(data, weights, 2) + bias\n",
    "\n",
    "    # pytorch cross entropy is different from tensorflow categorical cross entropy\n",
    "    # 1. It takes in the logits by default and does its own softmax activation\n",
    "    # 2. It wants the class lables in the target (LongTensor instead of Float)\n",
    "    loss_ce = ce_loss_func(data_logit.permute(0,2,1), data.argmax(dim=2))\n",
    "    loss_ce = loss_ce.sum(dim=-1)\n",
    "    loss_ce = (loss_ce * seq_weights).sum()\n",
    "\n",
    "    reg_w = lam_w * torch.sum(torch.mul(weights, weights)) * 0.5 * (ncol-1) * 20.0 \n",
    "    reg_b = lam_b * torch.sum(torch.mul(bias, bias))\n",
    "    reg = reg_w + reg_b\n",
    "    \n",
    "    loss = (loss_ce + reg) / sum_seq_weights\n",
    "    losses.append(loss.item())\n",
    "    print(f\"Epoch={epoch:02d}, Loss={losses[-1]:6.2f}\")\n",
    "    loss.backward()\n",
    "\n",
    "    optimizer.step()\n",
    "    optimizer.zero_grad()\n",
    "\n",
    "import matplotlib.pyplot as plt\n",
    "plt.plot(losses, \"o-\");"
   ]
  }
 ],
 "metadata": {
  "kernelspec": {
   "display_name": "Pytorch",
   "language": "python",
   "name": "pytorch"
  },
  "language_info": {
   "codemirror_mode": {
    "name": "ipython",
    "version": 3
   },
   "file_extension": ".py",
   "mimetype": "text/x-python",
   "name": "python",
   "nbconvert_exporter": "python",
   "pygments_lexer": "ipython3",
   "version": "3.6.10"
  }
 },
 "nbformat": 4,
 "nbformat_minor": 2
}
