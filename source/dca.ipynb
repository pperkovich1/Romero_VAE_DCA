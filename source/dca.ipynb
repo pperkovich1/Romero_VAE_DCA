{
 "cells": [
  {
   "cell_type": "markdown",
   "metadata": {},
   "source": [
    "# Implementing DCA in pytorch\n",
    "\n",
    "Source CC function in [seqmodel](https://github.com/sokrypton/seqmodels/blob/master/seqmodels.ipynb)\n",
    "Reimplemeting tensorflow code in pytorch"
   ]
  },
  {
   "cell_type": "code",
   "execution_count": 1,
   "metadata": {},
   "outputs": [],
   "source": [
    "import numpy as np\n",
    "import torch\n",
    "\n",
    "import read_config\n",
    "from dataloader import MSADataset, OneHotTransform"
   ]
  },
  {
   "cell_type": "code",
   "execution_count": 2,
   "metadata": {},
   "outputs": [
    {
     "data": {
      "text/plain": [
       "(14441, 559)"
      ]
     },
     "execution_count": 2,
     "metadata": {},
     "output_type": "execute_result"
    }
   ],
   "source": [
    "config = read_config.Config(\"../config2d.yaml\")\n",
    "dataset = MSADataset(config.aligned_msa_fullpath, transform=OneHotTransform(21, flatten=False))\n",
    "\n",
    "N = len(dataset)\n",
    "\n",
    "protein_seq, weight = dataset[0]\n",
    "ncat = 21\n",
    "L = protein_seq.shape[0]\n",
    "ncol = L\n",
    "\n",
    "N, L"
   ]
  },
  {
   "cell_type": "code",
   "execution_count": 3,
   "metadata": {},
   "outputs": [
    {
     "data": {
      "text/plain": [
       "torch.Size([559, 21])"
      ]
     },
     "execution_count": 3,
     "metadata": {},
     "output_type": "execute_result"
    }
   ],
   "source": [
    "protein_seq.shape"
   ]
  },
  {
   "cell_type": "code",
   "execution_count": 4,
   "metadata": {},
   "outputs": [
    {
     "data": {
      "text/plain": [
       "(559, 21)"
      ]
     },
     "execution_count": 4,
     "metadata": {},
     "output_type": "execute_result"
    }
   ],
   "source": [
    "ncol, ncat"
   ]
  },
  {
   "cell_type": "code",
   "execution_count": 5,
   "metadata": {},
   "outputs": [],
   "source": [
    "# L2 regularization\n",
    "lam_w = 0.1\n",
    "lam_b = 0.1\n",
    "\n"
   ]
  },
  {
   "cell_type": "code",
   "execution_count": 6,
   "metadata": {},
   "outputs": [
    {
     "name": "stdout",
     "output_type": "stream",
     "text": [
      "Data.shape = torch.Size([128, 559, 21])\n",
      "Weights.shape = torch.Size([128])\n"
     ]
    }
   ],
   "source": [
    "batch_size = config.batch_size\n",
    "#batch_size = len(dataset) ## to load in the whole dataset\n",
    "msa = torch.utils.data.DataLoader(dataset, batch_size)\n",
    "\n",
    "for _, msa_data in enumerate(msa):\n",
    "    data  = msa_data[0]\n",
    "    seq_weights = msa_data[1]\n",
    "    break\n",
    "    \n",
    "print(f\"Data.shape = {data.shape}\")\n",
    "print(f\"Weights.shape = {seq_weights.shape}\")"
   ]
  },
  {
   "cell_type": "code",
   "execution_count": 7,
   "metadata": {},
   "outputs": [],
   "source": [
    "device = config.device"
   ]
  },
  {
   "cell_type": "code",
   "execution_count": 8,
   "metadata": {},
   "outputs": [],
   "source": [
    "bias = torch.zeros((ncol,ncat), dtype=torch.float, requires_grad=True, device=device)\n",
    "w = torch.zeros((ncol, ncat, ncol, ncat), dtype=torch.float, requires_grad=True, device=device)\n",
    "\n",
    "num_epochs = config.epochs\n",
    "#num_epochs = 10\n",
    "\n",
    "# Tell the optimizer which weights we want to update\n",
    "optimizer = torch.optim.SGD([bias, w], lr=config.learning_rate)\n",
    "ce_loss_func = torch.nn.CrossEntropyLoss(reduction='none')"
   ]
  },
  {
   "cell_type": "code",
   "execution_count": 9,
   "metadata": {},
   "outputs": [],
   "source": [
    "data = data.to(device)\n",
    "seq_weights = seq_weights.to(device)\n",
    "\n",
    "# This is the number of effective sequences if the batch size is the full dataset\n",
    "sum_seq_weights = torch.sum(seq_weights)"
   ]
  },
  {
   "cell_type": "code",
   "execution_count": 10,
   "metadata": {},
   "outputs": [
    {
     "name": "stdout",
     "output_type": "stream",
     "text": [
      "Epoch=00, Loss=1701.89\n",
      "Epoch=01, Loss=1318.83\n",
      "Epoch=02, Loss=1049.85\n",
      "Epoch=03, Loss=903.73\n",
      "Epoch=04, Loss=833.69\n",
      "Epoch=05, Loss=797.48\n",
      "Epoch=06, Loss=776.24\n",
      "Epoch=07, Loss=762.37\n",
      "Epoch=08, Loss=752.52\n",
      "Epoch=09, Loss=745.06\n",
      "Epoch=10, Loss=739.16\n",
      "Epoch=11, Loss=734.33\n",
      "Epoch=12, Loss=730.29\n",
      "Epoch=13, Loss=726.85\n",
      "Epoch=14, Loss=723.87\n",
      "Epoch=15, Loss=721.28\n",
      "Epoch=16, Loss=719.02\n",
      "Epoch=17, Loss=717.02\n",
      "Epoch=18, Loss=715.25\n",
      "Epoch=19, Loss=713.68\n",
      "Epoch=20, Loss=712.29\n",
      "Epoch=21, Loss=711.04\n",
      "Epoch=22, Loss=709.92\n",
      "Epoch=23, Loss=708.92\n",
      "Epoch=24, Loss=708.02\n",
      "Epoch=25, Loss=707.22\n",
      "Epoch=26, Loss=706.49\n",
      "Epoch=27, Loss=705.83\n",
      "Epoch=28, Loss=705.24\n",
      "Epoch=29, Loss=704.70\n",
      "Epoch=30, Loss=704.21\n",
      "Epoch=31, Loss=703.77\n",
      "Epoch=32, Loss=703.37\n",
      "Epoch=33, Loss=703.00\n",
      "Epoch=34, Loss=702.67\n",
      "Epoch=35, Loss=702.37\n",
      "Epoch=36, Loss=702.10\n",
      "Epoch=37, Loss=701.85\n",
      "Epoch=38, Loss=701.62\n",
      "Epoch=39, Loss=701.41\n",
      "Epoch=40, Loss=701.22\n",
      "Epoch=41, Loss=701.04\n",
      "Epoch=42, Loss=700.88\n",
      "Epoch=43, Loss=700.73\n",
      "Epoch=44, Loss=700.60\n",
      "Epoch=45, Loss=700.47\n",
      "Epoch=46, Loss=700.36\n",
      "Epoch=47, Loss=700.25\n",
      "Epoch=48, Loss=700.16\n",
      "Epoch=49, Loss=700.07\n"
     ]
    },
    {
     "data": {
      "image/png": "[encoded data removed]",
      "text/plain": [
       "<Figure size 432x288 with 1 Axes>"
      ]
     },
     "metadata": {
      "needs_background": "light"
     },
     "output_type": "display_data"
    }
   ],
   "source": [
    "losses = []\n",
    "for epoch in range(num_epochs):\n",
    "    \n",
    "    # we do not want weights between the various nodes in a given position. \n",
    "    # i.e. weights between nodes (i, a) and (j, b) only exist if i not = j\n",
    "    # so set these weights to zero\n",
    "    w_eye = w * torch.reshape(1 - torch.eye(ncol), (ncol,1,ncol, 1))\n",
    "    # symmetrize w so that the weight between (i,a) and (j, b) is the\n",
    "    # same as the weight between (j, b) and (i, a)\n",
    "    weights = w_eye + w_eye.permute(2,3,0,1)\n",
    "    \n",
    "    data_logit = torch.tensordot(data, weights, 2) + bias\n",
    "\n",
    "    # pytorch cross entropy is different from tensorflow categorical cross entropy\n",
    "    # 1. It takes in the logits by default and does its own softmax activation\n",
    "    # 2. It wants the class lables in the target (LongTensor instead of Float)\n",
    "    loss_ce = ce_loss_func(data_logit.permute(0,2,1), data.argmax(dim=2))\n",
    "    loss_ce_sum = loss_ce.sum(dim=-1)\n",
    "    unreg_loss = (loss_ce_sum * seq_weights).sum()\n",
    "\n",
    "    reg_w = lam_w * torch.sum(torch.mul(weights, weights)) * 0.5 * (ncol-1) * 20.0 \n",
    "    reg_b = lam_b * torch.sum(torch.mul(bias, bias))\n",
    "    reg = reg_w + reg_b\n",
    "    \n",
    "    loss = (unreg_loss + reg) / sum_seq_weights\n",
    "    losses.append(loss.item())\n",
    "    print(f\"Epoch={epoch:02d}, Loss={losses[-1]:6.2f}\")\n",
    "    loss.backward()\n",
    "\n",
    "    optimizer.step()\n",
    "    optimizer.zero_grad()\n",
    "\n",
    "import matplotlib.pyplot as plt\n",
    "plt.plot(losses, \"o-\");"
   ]
  },
  {
   "cell_type": "code",
   "execution_count": null,
   "metadata": {},
   "outputs": [],
   "source": []
  }
 ],
 "metadata": {
  "kernelspec": {
   "display_name": "Pytorch",
   "language": "python",
   "name": "pytorch"
  },
  "language_info": {
   "codemirror_mode": {
    "name": "ipython",
    "version": 3
   },
   "file_extension": ".py",
   "mimetype": "text/x-python",
   "name": "python",
   "nbconvert_exporter": "python",
   "pygments_lexer": "ipython3",
   "version": "3.6.10"
  }
 },
 "nbformat": 4,
 "nbformat_minor": 2
}
