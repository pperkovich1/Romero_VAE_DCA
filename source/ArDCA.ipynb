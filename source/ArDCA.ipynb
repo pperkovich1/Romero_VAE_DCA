{
 "cells": [
  {
   "cell_type": "code",
   "execution_count": 1,
   "metadata": {},
   "outputs": [],
   "source": [
    "import logging\n",
    "import pickle\n",
    "\n",
    "import torch\n",
    "import torch.distributions\n",
    "import torch.nn.functional as F\n",
    "\n",
    "import matplotlib.pyplot as plt\n",
    "\n",
    "import dca\n",
    "import utils\n",
    "\n",
    "logging.basicConfig(level=logging.INFO)"
   ]
  },
  {
   "cell_type": "code",
   "execution_count": 2,
   "metadata": {},
   "outputs": [],
   "source": [
    "aligned_msa_fullpath = \"../sequence_sets/mDHFR_clean.fasta.gz\"\n",
    "weights_fullpath = \"../working/mDHFR_clean_weights.npy\""
   ]
  },
  {
   "cell_type": "code",
   "execution_count": 3,
   "metadata": {},
   "outputs": [
    {
     "name": "stderr",
     "output_type": "stream",
     "text": [
      "INFO:root:weights_path is none. Setting all weights to 1.\n",
      "INFO:root:Weights are not specified in dataloader. Setting equal weights.\n",
      "INFO:root:... [NOTE] when training the model, Check to see if sampling is weighted\n",
      "INFO:root:Data.shape = torch.Size([23266, 186, 21])\n",
      "INFO:root:Weights.shape = torch.Size([23266])\n"
     ]
    },
    {
     "name": "stdout",
     "output_type": "stream",
     "text": [
      "MSA shape: torch.Size([23266, 186, 21]), MSA weights shape: torch.Size([23266])\n"
     ]
    }
   ],
   "source": [
    "msa, msa_weights = dca.load_full_msa_with_weights(\n",
    "                    msa_path=aligned_msa_fullpath,\n",
    "                    convert_unknown_aa_to_gap=False)\n",
    "N,L,q = msa.shape\n",
    "print(f\"MSA shape: {msa.shape}, MSA weights shape: {msa_weights.shape}\")"
   ]
  },
  {
   "cell_type": "markdown",
   "metadata": {},
   "source": [
    "## ArDCA"
   ]
  },
  {
   "cell_type": "code",
   "execution_count": 4,
   "metadata": {},
   "outputs": [],
   "source": [
    "def get_entropy_column_order(msa, msa_weights):\n",
    "    \"\"\"Return the index of site residue positions in increasing entropy order\"\"\"\n",
    "    with torch.no_grad():\n",
    "        f_i_a = (msa * msa_weights[:, None, None]).sum(axis=0) / N\n",
    "        entropy = torch.distributions.Categorical(probs=f_i_a).entropy()\n",
    "\n",
    "        # Sort in ascending order (most conserved columns first)\n",
    "        entropy_argsort = entropy.argsort()\n",
    "        return entropy_argsort\n",
    "\n",
    "class ArDCA(dca.DCA):\n",
    "\n",
    "    \"\"\"Auto regressive method to estimate probability dist\"\"\"\n",
    "\n",
    "    def __init__(self, col_order, *args, **kwargs):\n",
    "        super().__init__(*args, **kwargs)\n",
    "        # indices for the lower triangular part of the 4d interaction array\n",
    "        # we use this to zero out paramters between (i,a) and (j,b) when j <= i\n",
    "        self.row_lower, self.col_lower = torch.tril_indices(self.ncol, self.ncol)\n",
    "        self.col_order = col_order\n",
    "        self.orig_lam_w = self.lam_w\n",
    "        #self.lam_w = torch.arange(self.ncol, \n",
    "        #                dtype=self.w.dtype) * self.orig_lam_w / self.ncol\n",
    "        #self.lam_w = self.lam_w.reshape(1, 1, self.ncol, 1)\n",
    "        \n",
    "\n",
    "    def forward(self, x):\n",
    "        x_msa = x\n",
    "        # FIXME: is this necessary?\n",
    "        self.weights = self.w * 1 # make a copy through multiplication\n",
    "        # set lower triangular parameters to zero\n",
    "        self.weights[self.row_lower, :, self.col_lower, :] *= 0\n",
    "        x_logit = torch.tensordot(x_msa, self.weights, 2) + self.bias\n",
    "        return x_logit\n",
    "      \n",
    "    def reorder_msa(self, msa):\n",
    "        \"\"\"reorder msa columns to match column order \"\"\"\n",
    "        msa_reorder = msa[:, self.col_order, :]\n",
    "        msa_cat_reorder = msa_reorder.argmax(dim=2) # type LongTensor\n",
    "        return msa_reorder, msa_cat_reorder\n",
    "        \n",
    "    @classmethod\n",
    "    def create_ardca_model(cls, msa, msa_weights, *args, **kwargs):\n",
    "        col_order = get_entropy_column_order(msa=msa, msa_weights=msa_weights)\n",
    "        return cls.create_dca_model(col_order=col_order, msa=msa, \n",
    "                                        msa_weights=msa_weights, *args, **kwargs)\n",
    "\n",
    "\n"
   ]
  },
  {
   "cell_type": "code",
   "execution_count": 5,
   "metadata": {},
   "outputs": [
    {
     "name": "stdout",
     "output_type": "stream",
     "text": [
      "l2\n"
     ]
    }
   ],
   "source": [
    "lam_b = 1e-2\n",
    "lam_w = 1e-2\n",
    "regularization = \"l2\"\n",
    "model = ArDCA.create_ardca_model(msa, msa_weights, lam_b=lam_b, lam_w = lam_w,\n",
    "                                regularization=regularization)\n",
    "msa_reorder, msa_cat_reorder = model.reorder_msa(msa)"
   ]
  },
  {
   "cell_type": "code",
   "execution_count": 6,
   "metadata": {},
   "outputs": [],
   "source": [
    "learning_rate = 0.01\n",
    "num_epochs = 100\n",
    "\n",
    "verbose=True"
   ]
  },
  {
   "cell_type": "code",
   "execution_count": 7,
   "metadata": {},
   "outputs": [
    {
     "data": {
      "text/plain": [
       "('l2', 0.01)"
      ]
     },
     "execution_count": 7,
     "metadata": {},
     "output_type": "execute_result"
    }
   ],
   "source": [
    "model.regularization, model.lam_b"
   ]
  },
  {
   "cell_type": "code",
   "execution_count": 8,
   "metadata": {},
   "outputs": [],
   "source": [
    "optimizer = torch.optim.Adam(model.parameters(), lr=learning_rate)\n",
    "train_step = ArDCA.make_train_step(model, ArDCA.create_loss_function(), optimizer)"
   ]
  },
  {
   "cell_type": "code",
   "execution_count": 9,
   "metadata": {},
   "outputs": [
    {
     "name": "stderr",
     "output_type": "stream",
     "text": [
      "INFO:root:Epoch: 00 Loss=851.48\n",
      "INFO:root:Epoch: 01 Loss=663.46\n",
      "INFO:root:Epoch: 02 Loss=545.14\n",
      "INFO:root:Epoch: 03 Loss=472.45\n",
      "INFO:root:Epoch: 04 Loss=425.72\n",
      "INFO:root:Epoch: 05 Loss=392.11\n",
      "INFO:root:Epoch: 06 Loss=367.14\n",
      "INFO:root:Epoch: 07 Loss=347.62\n",
      "INFO:root:Epoch: 08 Loss=330.58\n",
      "INFO:root:Epoch: 09 Loss=315.79\n",
      "INFO:root:Epoch: 10 Loss=303.62\n",
      "INFO:root:Epoch: 11 Loss=293.47\n",
      "INFO:root:Epoch: 12 Loss=284.64\n",
      "INFO:root:Epoch: 13 Loss=276.84\n",
      "INFO:root:Epoch: 14 Loss=270.05\n",
      "INFO:root:Epoch: 15 Loss=264.17\n",
      "INFO:root:Epoch: 16 Loss=258.94\n",
      "INFO:root:Epoch: 17 Loss=254.07\n",
      "INFO:root:Epoch: 18 Loss=249.42\n",
      "INFO:root:Epoch: 19 Loss=244.99\n",
      "INFO:root:Epoch: 20 Loss=240.83\n",
      "INFO:root:Epoch: 21 Loss=236.97\n",
      "INFO:root:Epoch: 22 Loss=233.42\n",
      "INFO:root:Epoch: 23 Loss=230.16\n",
      "INFO:root:Epoch: 24 Loss=227.18\n",
      "INFO:root:Epoch: 25 Loss=224.42\n",
      "INFO:root:Epoch: 26 Loss=221.79\n",
      "INFO:root:Epoch: 27 Loss=219.24\n",
      "INFO:root:Epoch: 28 Loss=216.77\n",
      "INFO:root:Epoch: 29 Loss=214.42\n",
      "INFO:root:Epoch: 30 Loss=212.22\n",
      "INFO:root:Epoch: 31 Loss=210.18\n",
      "INFO:root:Epoch: 32 Loss=208.29\n",
      "INFO:root:Epoch: 33 Loss=206.55\n",
      "INFO:root:Epoch: 34 Loss=204.93\n",
      "INFO:root:Epoch: 35 Loss=203.43\n",
      "INFO:root:Epoch: 36 Loss=202.02\n",
      "INFO:root:Epoch: 37 Loss=200.68\n",
      "INFO:root:Epoch: 38 Loss=199.42\n",
      "INFO:root:Epoch: 39 Loss=198.22\n",
      "INFO:root:Epoch: 40 Loss=197.10\n",
      "INFO:root:Epoch: 41 Loss=196.06\n",
      "INFO:root:Epoch: 42 Loss=195.09\n",
      "INFO:root:Epoch: 43 Loss=194.17\n",
      "INFO:root:Epoch: 44 Loss=193.29\n",
      "INFO:root:Epoch: 45 Loss=192.46\n",
      "INFO:root:Epoch: 46 Loss=191.69\n",
      "INFO:root:Epoch: 47 Loss=190.99\n",
      "INFO:root:Epoch: 48 Loss=190.34\n",
      "INFO:root:Epoch: 49 Loss=189.73\n",
      "INFO:root:Epoch: 50 Loss=189.14\n",
      "INFO:root:Epoch: 51 Loss=188.59\n",
      "INFO:root:Epoch: 52 Loss=188.07\n",
      "INFO:root:Epoch: 53 Loss=187.59\n",
      "INFO:root:Epoch: 54 Loss=187.13\n",
      "INFO:root:Epoch: 55 Loss=186.70\n",
      "INFO:root:Epoch: 56 Loss=186.29\n",
      "INFO:root:Epoch: 57 Loss=185.91\n",
      "INFO:root:Epoch: 58 Loss=185.54\n",
      "INFO:root:Epoch: 59 Loss=185.18\n",
      "INFO:root:Epoch: 60 Loss=184.84\n",
      "INFO:root:Epoch: 61 Loss=184.51\n",
      "INFO:root:Epoch: 62 Loss=184.20\n",
      "INFO:root:Epoch: 63 Loss=183.91\n",
      "INFO:root:Epoch: 64 Loss=183.63\n",
      "INFO:root:Epoch: 65 Loss=183.37\n",
      "INFO:root:Epoch: 66 Loss=183.11\n",
      "INFO:root:Epoch: 67 Loss=182.86\n",
      "INFO:root:Epoch: 68 Loss=182.62\n",
      "INFO:root:Epoch: 69 Loss=182.39\n",
      "INFO:root:Epoch: 70 Loss=182.17\n",
      "INFO:root:Epoch: 71 Loss=181.96\n",
      "INFO:root:Epoch: 72 Loss=181.76\n",
      "INFO:root:Epoch: 73 Loss=181.57\n",
      "INFO:root:Epoch: 74 Loss=181.38\n",
      "INFO:root:Epoch: 75 Loss=181.20\n",
      "INFO:root:Epoch: 76 Loss=181.02\n",
      "INFO:root:Epoch: 77 Loss=180.86\n",
      "INFO:root:Epoch: 78 Loss=180.69\n",
      "INFO:root:Epoch: 79 Loss=180.54\n",
      "INFO:root:Epoch: 80 Loss=180.39\n",
      "INFO:root:Epoch: 81 Loss=180.24\n",
      "INFO:root:Epoch: 82 Loss=180.10\n",
      "INFO:root:Epoch: 83 Loss=179.96\n",
      "INFO:root:Epoch: 84 Loss=179.82\n",
      "INFO:root:Epoch: 85 Loss=179.69\n",
      "INFO:root:Epoch: 86 Loss=179.56\n",
      "INFO:root:Epoch: 87 Loss=179.44\n",
      "INFO:root:Epoch: 88 Loss=179.32\n",
      "INFO:root:Epoch: 89 Loss=179.20\n",
      "INFO:root:Epoch: 90 Loss=179.09\n",
      "INFO:root:Epoch: 91 Loss=178.98\n",
      "INFO:root:Epoch: 92 Loss=178.88\n",
      "INFO:root:Epoch: 93 Loss=178.77\n",
      "INFO:root:Epoch: 94 Loss=178.67\n",
      "INFO:root:Epoch: 95 Loss=178.57\n",
      "INFO:root:Epoch: 96 Loss=178.48\n",
      "INFO:root:Epoch: 97 Loss=178.39\n",
      "INFO:root:Epoch: 98 Loss=178.30\n",
      "INFO:root:Epoch: 99 Loss=178.21\n"
     ]
    }
   ],
   "source": [
    "losses = []\n",
    "for epoch in range(num_epochs):\n",
    "    loss = train_step(x=msa_reorder, x_weights=msa_weights, x_cat=msa_cat_reorder)\n",
    "    losses.append(loss)\n",
    "    if verbose:\n",
    "        logging.info(f\"Epoch: {epoch:02d} Loss={loss:.2f}\")"
   ]
  },
  {
   "cell_type": "code",
   "execution_count": 10,
   "metadata": {},
   "outputs": [],
   "source": [
    "\n",
    "ret = {'losses':losses, 'model':model, 'optimizer':optimizer,\n",
    "        'weights': model.weights.detach().numpy(),\n",
    "        'bias': model.bias.detach().numpy(),\n",
    "        'col_order':model.col_order.detach().numpy()\n",
    "                }\n"
   ]
  },
  {
   "cell_type": "code",
   "execution_count": 11,
   "metadata": {},
   "outputs": [
    {
     "data": {
      "image/png": "[encoded data removed]",
      "text/plain": [
       "<Figure size 432x288 with 1 Axes>"
      ]
     },
     "metadata": {
      "needs_background": "light"
     },
     "output_type": "display_data"
    }
   ],
   "source": [
    "utils.plot_loss_curve(losses=ret['losses'],\n",
    "        annotatation_str = str(ret['optimizer']),\n",
    "        #save_fig_path = config.lossgraph_fullpath,\n",
    "        #model_name= config.model_name\n",
    "        )"
   ]
  },
  {
   "cell_type": "code",
   "execution_count": 12,
   "metadata": {},
   "outputs": [],
   "source": [
    "with open(\"../working/mDHFR_clean_ardca_params.pkl\", 'wb') as fh:\n",
    "    pickle.dump({k:ret[k] for k in [\"weights\", \"bias\", \"col_order\"]}, fh)"
   ]
  },
  {
   "cell_type": "code",
   "execution_count": null,
   "metadata": {},
   "outputs": [],
   "source": []
  }
 ],
 "metadata": {
  "kernelspec": {
   "display_name": "Python [conda env:.conda-pytorch] *",
   "language": "python",
   "name": "conda-env-.conda-pytorch-py"
  },
  "language_info": {
   "codemirror_mode": {
    "name": "ipython",
    "version": 3
   },
   "file_extension": ".py",
   "mimetype": "text/x-python",
   "name": "python",
   "nbconvert_exporter": "python",
   "pygments_lexer": "ipython3",
   "version": "3.6.13"
  }
 },
 "nbformat": 4,
 "nbformat_minor": 2
}
