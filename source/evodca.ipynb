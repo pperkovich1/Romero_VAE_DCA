{
 "cells": [
  {
   "cell_type": "code",
   "execution_count": 1,
   "metadata": {},
   "outputs": [],
   "source": [
    "import numpy as np\n",
    "import matplotlib.pyplot as plt\n",
    "\n",
    "import torch\n",
    "import torch.nn.functional\n",
    "\n",
    "import dca\n",
    "import evo_weight_tools\n",
    "\n",
    "import dataloader"
   ]
  },
  {
   "cell_type": "code",
   "execution_count": 2,
   "metadata": {},
   "outputs": [],
   "source": [
    "CODON_MAP = dataloader.codon_map\n",
    "qc = len(CODON_MAP) # qc = 61\n",
    "\n",
    "\n",
    "AA_MAP =  dataloader.AA_map_str.copy()\n",
    "if '-' in AA_MAP:\n",
    "    del AA_MAP['-']\n",
    "qa = len(AA_MAP) # qa = 20\n",
    "INV_AA_MAP = {v:k for k,v in AA_MAP.items()}\n",
    "\n",
    "\n",
    "#CODON_AA_MAP\n",
    "CODON_AA_MAP = np.array([AA_MAP[dataloader.codon_table.forward_table[c]] for \n",
    "                         c, idx in CODON_MAP.items()], dtype=np.int)\n",
    "CODON_AA_MAP = torch.from_numpy(CODON_AA_MAP)\n",
    "\n",
    "# Binary matrix that translates between Codon index and Amino Acid index\n",
    "codon_aa_mat = torch.eye(len(AA_MAP))[CODON_AA_MAP].float() # shape (qc, qa) binary"
   ]
  },
  {
   "cell_type": "code",
   "execution_count": 3,
   "metadata": {},
   "outputs": [],
   "source": [
    "def load_msa(filename):\n",
    "    ret = evo_weight_tools.get_codon_msa_as_int_array(filename, dataloader.codon_map)\n",
    "    return torch.ByteTensor(ret)\n",
    "\n",
    "def load_log_proposal(filename):\n",
    "    return torch.FloatTensor(np.load(filename))\n",
    "\n",
    "def load_msa_and_log_proposal(round_num):\n",
    "    msa_round = load_msa(f\"./data_test/Round{round_num}_Q15_C10_nts.aln.gz\")\n",
    "    log_proposal_round = load_log_proposal(f\"./data_test/Round{round_num}_weights.npy\")\n",
    "    return msa_round, log_proposal_round"
   ]
  },
  {
   "cell_type": "code",
   "execution_count": 4,
   "metadata": {},
   "outputs": [
    {
     "name": "stdout",
     "output_type": "stream",
     "text": [
      "Length of sequences: 186\n",
      "MSA shape: torch.Size([19973, 186])\n",
      "Log Proposal shape: torch.Size([19973, 186, 61])\n"
     ]
    }
   ],
   "source": [
    "# Load all the MSAs (pytorch ints) and evo weights (floats) \n",
    "# and concatenate them together\n",
    "msa_proposal_zip = zip(*map(load_msa_and_log_proposal, [1,2]))\n",
    "msa_int = torch.cat(next(msa_proposal_zip))\n",
    "log_proposal = torch.cat(next(msa_proposal_zip))\n",
    "del(msa_proposal_zip)\n",
    "L = msa_int.shape[1]\n",
    "print(f\"Length of sequences: {L}\")\n",
    "print(f\"MSA shape: {msa_int.shape}\")\n",
    "print(f\"Log Proposal shape: {log_proposal.shape}\")"
   ]
  },
  {
   "cell_type": "code",
   "execution_count": 5,
   "metadata": {},
   "outputs": [],
   "source": [
    "# Reduce the number of Amino Acid positions for testing purposes\n",
    "L = 20\n",
    "log_proposal = log_proposal[:, :L, :]\n",
    "msa_int = msa_int[:, :L]"
   ]
  },
  {
   "cell_type": "code",
   "execution_count": 6,
   "metadata": {},
   "outputs": [],
   "source": [
    "# Reduce the number of data points for testing purposes\n",
    "#N = 10\n",
    "#log_proposal = log_proposal[:N, ...]\n",
    "#msa_int = msa_int[:N, ...]"
   ]
  },
  {
   "cell_type": "code",
   "execution_count": 7,
   "metadata": {},
   "outputs": [],
   "source": [
    "with torch.no_grad():\n",
    "    msa_one_hot = torch.nn.functional.one_hot(msa_int.long(), qc).float()\n",
    "    weights = torch.ones(msa_one_hot.shape[0], dtype=torch.float)\n",
    "    msa_cat = msa_one_hot.argmax(dim=2) # should be the same as msa_int now"
   ]
  },
  {
   "cell_type": "code",
   "execution_count": 8,
   "metadata": {},
   "outputs": [],
   "source": [
    "class EvoDCA(dca.DCA):\n",
    "    \n",
    "    def forward(self, x, x_log_proposal):\n",
    "        \"\"\"`x` is a one-hot encoded MSA (or subset of an MSA) Shape: (n, L, q)\n",
    "           `x_log_proposal` is the weights computed by evo_weight_tools Shape: (n, L, q)\n",
    "        \"\"\"\n",
    "        x_msa = x\n",
    "        w_eye = self.w * self.weights_eye\n",
    "        self.weights = w_eye + w_eye.permute(2,3,0,1)\n",
    "        \n",
    "        # convert weights and biases to codon level params\n",
    "        weights_codon = self.weights.index_select(1, \n",
    "                                CODON_AA_MAP).index_select(3, CODON_AA_MAP)\n",
    "        bias_codon = self.bias.index_select(1, CODON_AA_MAP)\n",
    "        \n",
    "        # calculate logits with codon params and add in log_proposal\n",
    "        x_logit = torch.tensordot(x_msa, weights_codon, 2) + bias_codon + x_log_proposal\n",
    "        return x_logit\n",
    "\n"
   ]
  },
  {
   "cell_type": "code",
   "execution_count": 9,
   "metadata": {},
   "outputs": [],
   "source": [
    "pseudo_count = 0.01 \n",
    "\n",
    "with torch.no_grad():\n",
    "    b_ini = torch.matmul(msa_one_hot.float(), codon_aa_mat) + pseudo_count\n",
    "    b_ini = torch.log(b_ini.mean(0))\n",
    "    model = EvoDCA(ncol=L, \n",
    "                   ncat=qa, # Initialize DCA model with number of amino acids and not\n",
    "                            # number of codons as that is the shape of our params\n",
    "                   Neff=1,  # ??Not sure what we should set this to\n",
    "                   b_ini = b_ini,\n",
    "                   lam_w = 1.0, # increase the regularization as we have very little effective data\n",
    "                   lam_b = 1.0)\n"
   ]
  },
  {
   "cell_type": "code",
   "execution_count": 10,
   "metadata": {},
   "outputs": [
    {
     "data": {
      "text/plain": [
       "EvoDCA()"
      ]
     },
     "execution_count": 10,
     "metadata": {},
     "output_type": "execute_result"
    }
   ],
   "source": [
    "learning_rate = 1e-3\n",
    "num_epochs = 100\n",
    "optimizer = torch.optim.Adam(model.parameters(), lr=learning_rate)\n",
    "model.train() # sets model to TRAIN mode"
   ]
  },
  {
   "cell_type": "code",
   "execution_count": 11,
   "metadata": {},
   "outputs": [
    {
     "name": "stdout",
     "output_type": "stream",
     "text": [
      "Epoch 0, loss: 70225.4062\n",
      "Epoch 1, loss: 70140.2656\n",
      "Epoch 2, loss: 69964.2578\n",
      "Epoch 3, loss: 69855.1406\n",
      "Epoch 4, loss: 69766.2109\n",
      "Epoch 5, loss: 69659.9375\n",
      "Epoch 6, loss: 69553.7969\n",
      "Epoch 7, loss: 69466.6250\n",
      "Epoch 8, loss: 69400.9922\n",
      "Epoch 9, loss: 69345.1953\n",
      "Epoch 10, loss: 69288.9688\n",
      "Epoch 11, loss: 69233.7266\n",
      "Epoch 12, loss: 69186.1719\n",
      "Epoch 13, loss: 69150.1719\n",
      "Epoch 14, loss: 69124.1094\n",
      "Epoch 15, loss: 69101.6094\n",
      "Epoch 16, loss: 69078.9219\n",
      "Epoch 17, loss: 69057.0781\n",
      "Epoch 18, loss: 69038.4141\n",
      "Epoch 19, loss: 69024.7031\n",
      "Epoch 20, loss: 69014.6719\n",
      "Epoch 21, loss: 69004.9297\n",
      "Epoch 22, loss: 68993.8594\n",
      "Epoch 23, loss: 68981.8828\n",
      "Epoch 24, loss: 68970.8203\n",
      "Epoch 25, loss: 68961.6172\n",
      "Epoch 26, loss: 68953.5391\n",
      "Epoch 27, loss: 68945.0312\n",
      "Epoch 28, loss: 68935.4766\n",
      "Epoch 29, loss: 68925.4766\n",
      "Epoch 30, loss: 68916.0156\n",
      "Epoch 31, loss: 68908.0625\n",
      "Epoch 32, loss: 68900.7734\n",
      "Epoch 33, loss: 68893.1328\n",
      "Epoch 34, loss: 68885.1016\n",
      "Epoch 35, loss: 68877.4531\n",
      "Epoch 36, loss: 68870.7344\n",
      "Epoch 37, loss: 68865.0547\n",
      "Epoch 38, loss: 68859.4453\n",
      "Epoch 39, loss: 68853.5781\n",
      "Epoch 40, loss: 68848.0234\n",
      "Epoch 41, loss: 68842.5703\n",
      "Epoch 42, loss: 68838.0000\n",
      "Epoch 43, loss: 68833.4688\n",
      "Epoch 44, loss: 68828.9922\n",
      "Epoch 45, loss: 68824.3281\n",
      "Epoch 46, loss: 68819.9297\n",
      "Epoch 47, loss: 68815.8828\n",
      "Epoch 48, loss: 68811.8750\n",
      "Epoch 49, loss: 68807.6328\n",
      "Epoch 50, loss: 68803.5312\n",
      "Epoch 51, loss: 68799.2188\n",
      "Epoch 52, loss: 68795.0938\n",
      "Epoch 53, loss: 68791.1641\n",
      "Epoch 54, loss: 68787.1172\n",
      "Epoch 55, loss: 68782.8828\n",
      "Epoch 56, loss: 68778.7188\n",
      "Epoch 57, loss: 68774.7266\n",
      "Epoch 58, loss: 68770.9375\n",
      "Epoch 59, loss: 68766.9297\n",
      "Epoch 60, loss: 68762.9453\n",
      "Epoch 61, loss: 68759.1641\n",
      "Epoch 62, loss: 68755.3203\n",
      "Epoch 63, loss: 68751.2969\n",
      "Epoch 64, loss: 68747.5859\n",
      "Epoch 65, loss: 68743.6094\n",
      "Epoch 66, loss: 68739.9766\n",
      "Epoch 67, loss: 68736.1328\n",
      "Epoch 68, loss: 68732.2891\n",
      "Epoch 69, loss: 68728.5859\n",
      "Epoch 70, loss: 68724.6562\n",
      "Epoch 71, loss: 68720.9922\n",
      "Epoch 72, loss: 68717.2734\n",
      "Epoch 73, loss: 68713.4531\n",
      "Epoch 74, loss: 68709.8828\n",
      "Epoch 75, loss: 68706.0625\n",
      "Epoch 76, loss: 68702.4297\n",
      "Epoch 77, loss: 68698.6953\n",
      "Epoch 78, loss: 68695.1094\n",
      "Epoch 79, loss: 68691.5312\n",
      "Epoch 80, loss: 68687.7500\n",
      "Epoch 81, loss: 68684.1562\n",
      "Epoch 82, loss: 68680.3750\n",
      "Epoch 83, loss: 68676.7578\n",
      "Epoch 84, loss: 68673.1094\n",
      "Epoch 85, loss: 68669.5938\n",
      "Epoch 86, loss: 68665.9141\n",
      "Epoch 87, loss: 68662.3984\n",
      "Epoch 88, loss: 68658.7422\n",
      "Epoch 89, loss: 68654.9766\n",
      "Epoch 90, loss: 68651.2969\n",
      "Epoch 91, loss: 68647.8203\n",
      "Epoch 92, loss: 68644.1328\n",
      "Epoch 93, loss: 68640.5859\n",
      "Epoch 94, loss: 68636.8516\n",
      "Epoch 95, loss: 68633.2812\n",
      "Epoch 96, loss: 68629.6797\n",
      "Epoch 97, loss: 68625.9297\n",
      "Epoch 98, loss: 68622.3984\n",
      "Epoch 99, loss: 68618.6797\n"
     ]
    }
   ],
   "source": [
    "losses = np.zeros(num_epochs, dtype=np.double)\n",
    "\n",
    "loss_fn = EvoDCA.create_loss_function()\n",
    "for epoch in range(num_epochs):\n",
    "    x_logit = model(msa_one_hot, log_proposal)\n",
    "    loss = loss_fn(x_logit=x_logit, x_cat=msa_cat, \n",
    "                   x_weights=weights, model=model, verbose=False)\n",
    "    loss.backward()\n",
    "    optimizer.step()\n",
    "    optimizer.zero_grad()\n",
    "\n",
    "    losses[epoch] = loss.item()\n",
    "    print(f\"Epoch {epoch}, loss: {loss:.4f}\")\n"
   ]
  },
  {
   "cell_type": "code",
   "execution_count": 12,
   "metadata": {},
   "outputs": [
    {
     "data": {
      "image/png": "[encoded data removed]",
      "text/plain": [
       "<Figure size 432x288 with 1 Axes>"
      ]
     },
     "metadata": {
      "needs_background": "light"
     },
     "output_type": "display_data"
    }
   ],
   "source": [
    "plt.plot(losses)\n",
    "plt.title(\"Loss Curve for minimizing cross-entropy\")\n",
    "plt.xlabel(\"Optimizer Step number\")\n",
    "plt.ylabel(\"Loss\");"
   ]
  }
 ],
 "metadata": {
  "kernelspec": {
   "display_name": "Pytorch",
   "language": "python",
   "name": "pytorch"
  },
  "language_info": {
   "codemirror_mode": {
    "name": "ipython",
    "version": 3
   },
   "file_extension": ".py",
   "mimetype": "text/x-python",
   "name": "python",
   "nbconvert_exporter": "python",
   "pygments_lexer": "ipython3",
   "version": "3.6.10"
  }
 },
 "nbformat": 4,
 "nbformat_minor": 2
}
