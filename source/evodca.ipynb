{
 "cells": [
  {
   "cell_type": "code",
   "execution_count": 1,
   "metadata": {},
   "outputs": [],
   "source": [
    "import numpy as np\n",
    "import matplotlib.pyplot as plt\n",
    "\n",
    "import torch\n",
    "import torch.nn.functional\n",
    "\n",
    "import dca\n",
    "import evo_weight_tools\n",
    "\n",
    "import dataloader"
   ]
  },
  {
   "cell_type": "code",
   "execution_count": 2,
   "metadata": {},
   "outputs": [],
   "source": [
    "CODON_MAP = dataloader.codon_map\n",
    "qc = len(CODON_MAP) # qc = 61\n",
    "\n",
    "\n",
    "AA_MAP =  dataloader.AA_map_str.copy()\n",
    "if '-' in AA_MAP:\n",
    "    del AA_MAP['-']\n",
    "qa = len(AA_MAP) # qa = 20\n",
    "INV_AA_MAP = {v:k for k,v in AA_MAP.items()}\n",
    "\n",
    "\n",
    "#CODON_AA_MAP\n",
    "CODON_AA_MAP = np.array([AA_MAP[dataloader.codon_table.forward_table[c]] for \n",
    "                         c, idx in CODON_MAP.items()], dtype=np.int)\n",
    "CODON_AA_MAP = torch.from_numpy(CODON_AA_MAP)\n",
    "\n",
    "# Binary matrix that translates between Codon index and Amino Acid index\n",
    "codon_aa_mat = torch.eye(len(AA_MAP))[CODON_AA_MAP].float() # shape (qc, qa) binary"
   ]
  },
  {
   "cell_type": "code",
   "execution_count": 3,
   "metadata": {},
   "outputs": [],
   "source": [
    "def load_msa(filename):\n",
    "    ret = evo_weight_tools.get_codon_msa_as_int_array(filename, dataloader.codon_map)\n",
    "    return torch.ByteTensor(ret)\n",
    "\n",
    "def load_log_proposal(filename):\n",
    "    return torch.FloatTensor(np.load(filename))\n",
    "\n",
    "def load_msa_and_log_proposal(round_num):\n",
    "    msa_round = load_msa(f\"./data_test/Round{round_num}_Q15_C10_nts.aln.gz\")\n",
    "    log_proposal_round = load_log_proposal(f\"./data_test/Round{round_num}_weights.npy\")\n",
    "    return msa_round, log_proposal_round"
   ]
  },
  {
   "cell_type": "code",
   "execution_count": 4,
   "metadata": {},
   "outputs": [
    {
     "name": "stdout",
     "output_type": "stream",
     "text": [
      "Length of sequences: 186\n",
      "MSA shape: torch.Size([19973, 186])\n",
      "Log Proposal shape: torch.Size([19973, 186, 61])\n"
     ]
    }
   ],
   "source": [
    "# Load all the MSAs (pytorch ints) and evo weights (floats) \n",
    "# and concatenate them together\n",
    "msa_proposal_zip = zip(*map(load_msa_and_log_proposal, [1,2]))\n",
    "msa_int = torch.cat(next(msa_proposal_zip))\n",
    "log_proposal = torch.cat(next(msa_proposal_zip))\n",
    "del(msa_proposal_zip)\n",
    "L = msa_int.shape[1]\n",
    "print(f\"Length of sequences: {L}\")\n",
    "print(f\"MSA shape: {msa_int.shape}\")\n",
    "print(f\"Log Proposal shape: {log_proposal.shape}\")"
   ]
  },
  {
   "cell_type": "code",
   "execution_count": 5,
   "metadata": {},
   "outputs": [],
   "source": [
    "# Reduce the number of Amino Acid positions for testing purposes\n",
    "L = 20\n",
    "log_proposal = log_proposal[:, :L, :]\n",
    "msa_int = msa_int[:, :L]"
   ]
  },
  {
   "cell_type": "code",
   "execution_count": 6,
   "metadata": {},
   "outputs": [],
   "source": [
    "# Reduce the number of data points for testing purposes\n",
    "#N = 10\n",
    "#log_proposal = log_proposal[:N, ...]\n",
    "#msa_int = msa_int[:N, ...]"
   ]
  },
  {
   "cell_type": "code",
   "execution_count": 7,
   "metadata": {},
   "outputs": [],
   "source": [
    "with torch.no_grad():\n",
    "    msa_one_hot = torch.nn.functional.one_hot(msa_int.long(), qc).float()\n",
    "    weights = torch.ones(msa_one_hot.shape[0], dtype=torch.float)\n",
    "    msa_cat = msa_one_hot.argmax(dim=2) # should be the same as msa_int now"
   ]
  },
  {
   "cell_type": "code",
   "execution_count": 8,
   "metadata": {},
   "outputs": [],
   "source": [
    "class EvoDCA(dca.DCA):\n",
    "    \n",
    "    def forward(self, x, x_log_proposal):\n",
    "        \"\"\"`x` is a one-hot encoded MSA (or subset of an MSA) Shape: (n, L, q)\n",
    "           `x_log_proposal` is the weights computed by evo_weight_tools Shape: (n, L, q)\n",
    "        \"\"\"\n",
    "        x_msa = x\n",
    "        w_eye = self.w * self.weights_eye\n",
    "        self.weights = w_eye + w_eye.permute(2,3,0,1)\n",
    "        \n",
    "        # convert weights and biases to codon level params\n",
    "        weights_codon = self.weights.index_select(1, \n",
    "                                CODON_AA_MAP).index_select(3, CODON_AA_MAP)\n",
    "        bias_codon = self.bias.index_select(1, CODON_AA_MAP)\n",
    "        \n",
    "        # calculate logits with codon params and add in log_proposal\n",
    "        x_logit = torch.tensordot(x_msa, weights_codon, 2) + bias_codon + x_log_proposal\n",
    "        return x_logit\n",
    "\n"
   ]
  },
  {
   "cell_type": "code",
   "execution_count": 9,
   "metadata": {},
   "outputs": [],
   "source": [
    "pseudo_count = 0.01 \n",
    "\n",
    "with torch.no_grad():\n",
    "    b_ini = torch.matmul(msa_one_hot.float(), codon_aa_mat) + pseudo_count\n",
    "    b_ini = torch.log(b_ini.mean(0))\n",
    "    model = EvoDCA(ncol=L, \n",
    "                   ncat=qa, # Initialize DCA model with number of amino acids and not\n",
    "                            # number of codons as that is the shape of our params\n",
    "                   Neff=1,  # ??Not sure what we should set this to\n",
    "                   b_ini = b_ini,\n",
    "                   lam_w = 1., # increase the regularization as we have very little effective data\n",
    "                   lam_b = 1.)\n"
   ]
  },
  {
   "cell_type": "code",
   "execution_count": 10,
   "metadata": {},
   "outputs": [
    {
     "data": {
      "text/plain": [
       "EvoDCA()"
      ]
     },
     "execution_count": 10,
     "metadata": {},
     "output_type": "execute_result"
    }
   ],
   "source": [
    "learning_rate = 3e-3\n",
    "num_epochs = 100\n",
    "optimizer = torch.optim.Adam(model.parameters(), lr=learning_rate)\n",
    "model.train() # sets model to TRAIN mode"
   ]
  },
  {
   "cell_type": "code",
   "execution_count": 11,
   "metadata": {},
   "outputs": [
    {
     "name": "stdout",
     "output_type": "stream",
     "text": [
      "Epoch 0, loss: 70225.4062\n",
      "Epoch 1, loss: 70331.8672\n",
      "Epoch 2, loss: 69578.6484\n",
      "Epoch 3, loss: 69436.2734\n",
      "Epoch 4, loss: 69470.0391\n",
      "Epoch 5, loss: 69320.7812\n",
      "Epoch 6, loss: 69133.8672\n",
      "Epoch 7, loss: 69063.3906\n",
      "Epoch 8, loss: 69118.6172\n",
      "Epoch 9, loss: 69181.6250\n",
      "Epoch 10, loss: 69157.2812\n",
      "Epoch 11, loss: 69063.4531\n",
      "Epoch 12, loss: 68972.1875\n",
      "Epoch 13, loss: 68933.5078\n",
      "Epoch 14, loss: 68939.3203\n",
      "Epoch 15, loss: 68944.3438\n",
      "Epoch 16, loss: 68918.5234\n",
      "Epoch 17, loss: 68872.2812\n",
      "Epoch 18, loss: 68836.2344\n",
      "Epoch 19, loss: 68827.4609\n",
      "Epoch 20, loss: 68836.4375\n",
      "Epoch 21, loss: 68837.6641\n",
      "Epoch 22, loss: 68816.2969\n",
      "Epoch 23, loss: 68781.1953\n",
      "Epoch 24, loss: 68750.9922\n",
      "Epoch 25, loss: 68736.7266\n",
      "Epoch 26, loss: 68732.7812\n",
      "Epoch 27, loss: 68724.7422\n",
      "Epoch 28, loss: 68705.9688\n",
      "Epoch 29, loss: 68682.6250\n",
      "Epoch 30, loss: 68665.4141\n",
      "Epoch 31, loss: 68657.6094\n",
      "Epoch 32, loss: 68652.8047\n",
      "Epoch 33, loss: 68643.1406\n",
      "Epoch 34, loss: 68626.6719\n",
      "Epoch 35, loss: 68609.3594\n",
      "Epoch 36, loss: 68596.7734\n",
      "Epoch 37, loss: 68588.4766\n",
      "Epoch 38, loss: 68579.6484\n",
      "Epoch 39, loss: 68566.6328\n",
      "Epoch 40, loss: 68551.0703\n",
      "Epoch 41, loss: 68537.5625\n",
      "Epoch 42, loss: 68527.4297\n",
      "Epoch 43, loss: 68518.2500\n",
      "Epoch 44, loss: 68507.2812\n",
      "Epoch 45, loss: 68494.2188\n",
      "Epoch 46, loss: 68481.8281\n",
      "Epoch 47, loss: 68471.0547\n",
      "Epoch 48, loss: 68461.5625\n",
      "Epoch 49, loss: 68451.0703\n",
      "Epoch 50, loss: 68439.1406\n",
      "Epoch 51, loss: 68427.0078\n",
      "Epoch 52, loss: 68416.2031\n",
      "Epoch 53, loss: 68406.2891\n",
      "Epoch 54, loss: 68395.9062\n",
      "Epoch 55, loss: 68384.4453\n",
      "Epoch 56, loss: 68373.0312\n",
      "Epoch 57, loss: 68362.5078\n",
      "Epoch 58, loss: 68352.1562\n",
      "Epoch 59, loss: 68341.5938\n",
      "Epoch 60, loss: 68330.3281\n",
      "Epoch 61, loss: 68319.2734\n",
      "Epoch 62, loss: 68308.6562\n",
      "Epoch 63, loss: 68298.4062\n",
      "Epoch 64, loss: 68288.0547\n",
      "Epoch 65, loss: 68277.2891\n",
      "Epoch 66, loss: 68266.5000\n",
      "Epoch 67, loss: 68256.1797\n",
      "Epoch 68, loss: 68245.9141\n",
      "Epoch 69, loss: 68235.2344\n",
      "Epoch 70, loss: 68224.6641\n",
      "Epoch 71, loss: 68214.0312\n",
      "Epoch 72, loss: 68203.6953\n",
      "Epoch 73, loss: 68193.2188\n",
      "Epoch 74, loss: 68182.8359\n",
      "Epoch 75, loss: 68172.3438\n",
      "Epoch 76, loss: 68161.8516\n",
      "Epoch 77, loss: 68151.7188\n",
      "Epoch 78, loss: 68141.4062\n",
      "Epoch 79, loss: 68131.0625\n",
      "Epoch 80, loss: 68120.6328\n",
      "Epoch 81, loss: 68110.4219\n",
      "Epoch 82, loss: 68099.9141\n",
      "Epoch 83, loss: 68089.5938\n",
      "Epoch 84, loss: 68079.4844\n",
      "Epoch 85, loss: 68069.1172\n",
      "Epoch 86, loss: 68058.8516\n",
      "Epoch 87, loss: 68048.7656\n",
      "Epoch 88, loss: 68038.4609\n",
      "Epoch 89, loss: 68028.2734\n",
      "Epoch 90, loss: 68018.0703\n",
      "Epoch 91, loss: 68007.9453\n",
      "Epoch 92, loss: 67997.8281\n",
      "Epoch 93, loss: 67987.5391\n",
      "Epoch 94, loss: 67977.5625\n",
      "Epoch 95, loss: 67967.5469\n",
      "Epoch 96, loss: 67957.3281\n",
      "Epoch 97, loss: 67947.2344\n",
      "Epoch 98, loss: 67937.1562\n",
      "Epoch 99, loss: 67927.2344\n"
     ]
    }
   ],
   "source": [
    "losses = np.zeros(num_epochs, dtype=np.double)\n",
    "\n",
    "loss_fn = EvoDCA.create_loss_function()\n",
    "for epoch in range(num_epochs):\n",
    "    x_logit = model(msa_one_hot, log_proposal)\n",
    "    loss = loss_fn(x_logit=x_logit, x_cat=msa_cat, \n",
    "                   x_weights=weights, model=model, verbose=False)\n",
    "    loss.backward()\n",
    "    optimizer.step()\n",
    "    optimizer.zero_grad()\n",
    "\n",
    "    losses[epoch] = loss.item()\n",
    "    print(f\"Epoch {epoch}, loss: {loss:.4f}\")\n"
   ]
  },
  {
   "cell_type": "code",
   "execution_count": 12,
   "metadata": {},
   "outputs": [
    {
     "data": {
      "image/png": "[encoded data removed]",
      "text/plain": [
       "<Figure size 432x288 with 1 Axes>"
      ]
     },
     "metadata": {
      "needs_background": "light"
     },
     "output_type": "display_data"
    }
   ],
   "source": [
    "plt.plot(losses)\n",
    "plt.title(\"Loss Curve for minimizing cross-entropy\")\n",
    "plt.xlabel(\"Optimizer Step number\")\n",
    "plt.ylabel(\"Loss\");"
   ]
  }
 ],
 "metadata": {
  "kernelspec": {
   "display_name": "Pytorch",
   "language": "python",
   "name": "pytorch"
  },
  "language_info": {
   "codemirror_mode": {
    "name": "ipython",
    "version": 3
   },
   "file_extension": ".py",
   "mimetype": "text/x-python",
   "name": "python",
   "nbconvert_exporter": "python",
   "pygments_lexer": "ipython3",
   "version": "3.6.10"
  }
 },
 "nbformat": 4,
 "nbformat_minor": 2
}
