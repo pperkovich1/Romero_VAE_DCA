{
 "cells": [
  {
   "cell_type": "markdown",
   "metadata": {},
   "source": [
    "# Generating sequences from model\n",
    "Code samples 10 times from the first protein in the dataset (WT). Note that the latent vectors of each sequence have already been calculated beforehand, using save_latent_from_config() method in examine_model.py\n",
    "# TODO\n",
    "- Replace pytorch tensors with pandas dataframes. Or possibly np.array()?"
   ]
  },
  {
   "cell_type": "code",
   "execution_count": 1,
   "metadata": {
    "ExecuteTime": {
     "end_time": "2020-08-24T20:11:17.300551Z",
     "start_time": "2020-08-24T20:11:16.735686Z"
    }
   },
   "outputs": [
    {
     "ename": "ModuleNotFoundError",
     "evalue": "No module named 'torch'",
     "output_type": "error",
     "traceback": [
      "\u001b[0;31m---------------------------------------------------------------------------\u001b[0m",
      "\u001b[0;31mModuleNotFoundError\u001b[0m                       Traceback (most recent call last)",
      "\u001b[0;32m<ipython-input-1-154b6ac639a5>\u001b[0m in \u001b[0;36m<module>\u001b[0;34m\u001b[0m\n\u001b[1;32m      1\u001b[0m \u001b[0;31m# libraries\u001b[0m\u001b[0;34m\u001b[0m\u001b[0;34m\u001b[0m\u001b[0;34m\u001b[0m\u001b[0m\n\u001b[1;32m      2\u001b[0m \u001b[0;32mimport\u001b[0m \u001b[0mpickle\u001b[0m\u001b[0;34m\u001b[0m\u001b[0;34m\u001b[0m\u001b[0m\n\u001b[0;32m----> 3\u001b[0;31m \u001b[0;32mimport\u001b[0m \u001b[0mtorch\u001b[0m\u001b[0;34m\u001b[0m\u001b[0;34m\u001b[0m\u001b[0m\n\u001b[0m\u001b[1;32m      4\u001b[0m \u001b[0;32mimport\u001b[0m \u001b[0mnumpy\u001b[0m \u001b[0;32mas\u001b[0m \u001b[0mnp\u001b[0m\u001b[0;34m\u001b[0m\u001b[0;34m\u001b[0m\u001b[0m\n\u001b[1;32m      5\u001b[0m \u001b[0;34m\u001b[0m\u001b[0m\n",
      "\u001b[0;31mModuleNotFoundError\u001b[0m: No module named 'torch'"
     ]
    }
   ],
   "source": [
    "# libraries\n",
    "import pickle\n",
    "import torch\n",
    "import numpy as np\n",
    "\n",
    "# local files\n",
    "from read_config import Config\n",
    "import utils"
   ]
  },
  {
   "cell_type": "code",
   "execution_count": null,
   "metadata": {
    "ExecuteTime": {
     "end_time": "2020-08-24T20:11:27.315785Z",
     "start_time": "2020-08-24T20:11:17.303688Z"
    }
   },
   "outputs": [],
   "source": [
    "config_path = '../config_1000_15.yaml'\n",
    "config = Config(config_path)\n",
    "model = utils.load_model_from_config(config)\n",
    "\n",
    "MSA = utils.get_dataset_from_config(config)\n",
    "# dimensions of latent_vecs: seq x (means, log_variances)\n",
    "latent_vecs = pickle.load(open(config.latent_fullpath, 'rb'))['latent']\n",
    "latent_means = [row[0] for row in latent_vecs]\n",
    "latent_log_vars = [row[1] for row in latent_vecs]"
   ]
  },
  {
   "cell_type": "code",
   "execution_count": null,
   "metadata": {
    "ExecuteTime": {
     "end_time": "2020-08-24T20:11:27.862553Z",
     "start_time": "2020-08-24T20:11:27.318807Z"
    }
   },
   "outputs": [],
   "source": [
    "means = latent_means[0]\n",
    "log_vars = latent_log_vars[0]\n",
    "# means = torch.tensor([0.0]*15)\n",
    "# log_vars = torch.tensor([0.0]*15)\n",
    "no_var = torch.tensor([-np.inf]*15)\n",
    "\n",
    "sample_size = 10000\n",
    "\n",
    "\n",
    "outputs = []\n",
    "with torch.no_grad():\n",
    "    for i in range(sample_size):\n",
    "        if i==0:\n",
    "            encoding = model.reparameterize(means, no_var)\n",
    "        else:\n",
    "            encoding = model.reparameterize(means, log_vars)\n",
    "        output = model.decoder(encoding)\n",
    "        outputs.append(output)\n",
    "# converst list of 1D tensors into a single 2D tensor\n",
    "outputs = torch.stack(outputs)\n",
    "one_hots = utils.softmax(outputs)\n",
    "# one_hots dimensions before: sample_size x onehotencoding\n",
    "one_hots = one_hots.reshape(sample_size, -1, 21)\n",
    "# onehots dimensions after: sample_size x seq_length x 21_amino_acids"
   ]
  },
  {
   "cell_type": "code",
   "execution_count": null,
   "metadata": {
    "ExecuteTime": {
     "end_time": "2020-08-24T20:11:27.902145Z",
     "start_time": "2020-08-24T20:11:27.865665Z"
    }
   },
   "outputs": [],
   "source": [
    "from Bio import SeqIO as seq\n",
    "\n",
    "aligned = np.array(utils.one_hots_to_proteins(one_hots))\n",
    "\n",
    "seq.write(aligned, \"wt_samples.fasta\", \"fasta\")\n",
    "\n",
    "# seqs = np.array([utils.remove_gaps(seq) for seq in aligned])\n",
    "\n",
    "# for seq in seqs:\n",
    "#     print(len(seq))\n",
    "# for seq in seqs:\n",
    "#     print(''.join(seq))"
   ]
  }
 ],
 "metadata": {
  "kernelspec": {
   "display_name": "Python 3",
   "language": "python",
   "name": "python3"
  },
  "language_info": {
   "codemirror_mode": {
    "name": "ipython",
    "version": 3
   },
   "file_extension": ".py",
   "mimetype": "text/x-python",
   "name": "python",
   "nbconvert_exporter": "python",
   "pygments_lexer": "ipython3",
   "version": "3.7.3"
  }
 },
 "nbformat": 4,
 "nbformat_minor": 4
}
