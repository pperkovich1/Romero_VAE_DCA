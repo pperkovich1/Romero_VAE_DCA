{
 "cells": [
  {
   "cell_type": "code",
   "execution_count": null,
   "metadata": {},
   "outputs": [],
   "source": []
  },
  {
   "cell_type": "markdown",
   "metadata": {},
   "source": [
    "Input: sequence library, query sequence, pdb\n",
    "Output: sequence library w/ labeled columns\n",
    "\n",
    "Method 1: Load sequence library from database\n",
    "\n",
    "Method 2: Load sequence from PDB (make datastructure so pdb is easy to edit?)\n",
    "\n",
    "Method 3: Align query sequence with pdb sequence\n",
    "\n",
    "Method 4: Replace temperature with desired value in PDB"
   ]
  },
  {
   "cell_type": "code",
   "execution_count": null,
   "metadata": {},
   "outputs": [],
   "source": [
    "# wt seq aligned with dataset\n",
    "wt_oh_gaps = input_wt.reshape(1, *input_wt.size())\n",
    "wt_seq_gaps = utils.one_hots_to_proteins(wt_oh_gaps)\n",
    "wt_divs_gaps = torch.cat(list(divs_wt.values()))\n",
    "labels = {'free':slice(0,1), 'fixed':slice(1,2), 'one_free':slice(2,17), 'one_fixed':slice(17,32)}\n",
    "\n",
    "# wt seq with no gaps\n",
    "wt_seq_divs = utils.remove_gaps(wt_seq_gaps, wt_divs_gaps)\n",
    "wt_seq = wt_seq_divs[0]\n",
    "wt_divs = wt_seq_divs[1:]\n",
    "\n",
    "# wt seq aligned with 3vdh\n",
    "wt_seq_align = np.array(wt_aln) # taken from cell 3\n",
    "wt_divs_align = np.full((len(wt_divs), len(wt_seq_align)), np.nan)\n",
    "base_i = 0\n",
    "for (align_i, aa) in enumerate(wt_seq_align):\n",
    "    if aa == '-':\n",
    "        pass\n",
    "    elif wt_seq[base_i] == aa:\n",
    "        wt_divs_align[:, align_i] = wt_divs[:, base_i]\n",
    "        base_i += 1\n",
    "    else:\n",
    "        print('uh oh the sequences don\\'t match!')\n",
    "        print(base_i, align_i)\n",
    "        print(wt_seq[base_i], aa)\n",
    "        break\n",
    "i = None\n",
    "\n",
    "# final product: wt_divs_align"
   ]
  },
  {
   "cell_type": "code",
   "execution_count": null,
   "metadata": {},
   "outputs": [],
   "source": [
    "pdblines = open(pdb_path).read().strip().split('\\n')\n",
    "\n",
    "# weird is the index for 'chain identifier'\n",
    "# idk what this means but sometimes an atom will repeat itself\n",
    "# and this seems related to it.\n",
    "atom = slice(13,16)\n",
    "weird = slice(16,17)\n",
    "aa = slice(17,20)\n",
    "dimer = slice(21, 22)\n",
    "resi = slice(22,26)\n",
    "temp = slice(60,66)\n",
    "\n",
    "everything_else = [l for l in pdblines if not\n",
    "                   (len(l)>30 and l[0:4]=='ATOM' and (l[dimer]=='A' or l[dimer]=='B') and not l[weird]=='B')]\n",
    "\n",
    "d_a = [l for l in pdblines if len(l)>30 and l[0:4]=='ATOM' and l[dimer]=='A' and not l[weird]=='B']\n",
    "d_b = [l for l in pdblines if len(l)>30 and l[0:4]=='ATOM' and l[dimer]=='B' and not l[weird]=='B']\n",
    "d_b = d_b[5:]\n",
    "\n",
    "# Both start at residue 7\n",
    "divs_3vdh = wt_divs_align"
   ]
  },
  {
   "cell_type": "code",
   "execution_count": null,
   "metadata": {},
   "outputs": [],
   "source": [
    "# coloring for full variation\n",
    "\n",
    "\n",
    "for div_type in range(32):\n",
    "    pdb_a = ''\n",
    "    pdb_b = ''\n",
    "    for i, (line_a, line_b) in enumerate(zip(d_a, d_b)):\n",
    "        res_num = int(line_a[resi])\n",
    "        div = divs_3vdh[div_type][res_num]\n",
    "        if np.isnan(div) or div < 0:\n",
    "            div = 0\n",
    "        div_formatted =('%0.2f'%(div)).rjust(5)\n",
    "\n",
    "        pdb_a += line_a.replace(line_a[temp], div_formatted) + '\\n'\n",
    "        pdb_b += line_b.replace(line_b[temp], div_formatted) + '\\n'\n",
    "\n",
    "    new_pdb = pdb_a + '\\n' + pdb_b\n",
    "    open('4im4_div_%d.pdb'%div_type, 'w').write(new_pdb)"
   ]
  },
  {
   "cell_type": "code",
   "execution_count": null,
   "metadata": {},
   "outputs": [],
   "source": []
  },
  {
   "cell_type": "code",
   "execution_count": null,
   "metadata": {},
   "outputs": [],
   "source": [
    "# coloring for loopless to check if it's actually loopless\n",
    "\n",
    "loopless_path = '../sequence_sets/3vdh_wt_aligned.fasta'\n",
    "seqs = list(SeqIO.parse(loopless_path, 'fasta'))\n",
    "wt_seq = seqs[0].seq\n",
    "is_loop = [int(not aa == '-') for aa in wt_seq]\n",
    "\n",
    "pdb_path = '../sequence_sets/3vdh.pdb'\n",
    "pdblines = open(pdb_path).read().strip().split('\\n')\n",
    "\n",
    "loc = {'name': slice(0, 4), 'atom':slice(13,16), 'weird': slice(16, 17), 'aa': slice(17, 20),\n",
    "       'dimer': slice(21, 22), 'resi': slice(22, 26), 'temp': slice(60, 66)}\n",
    "d_a = [l for l in Apdblines if len(l)>30 and l[loc['name']]=='ATOM' and l[loc['dimer']]=='A' and not l[loc['weird']]=='B']\n",
    "d_b = [l for l in pdblines if len(l)>30 and l[loc['name']]=='ATOM' and l[loc['dimer']]=='B' and not l[loc['weird']]=='B']\n",
    "\n",
    "# aligns d_a and d_b, since it seems that d_b is a few residues longer. . .\n",
    "while not d_a[0][loc['resi']] == d_b[0][loc['resi']]:\n",
    "    if d_a[0][loc['resi']] < d_b[0][loc['resi']]:\n",
    "        del(d_a[0])\n",
    "    else:\n",
    "        del(d_b[0])\n",
    "\n",
    "pdb_a = ''\n",
    "pdb_b = ''\n",
    "for i, (line_a, line_b) in enumerate(zip(d_a, d_b)):\n",
    "    res_num = int(line_a[loc['resi']])\n",
    "    val = is_loop[res_num]\n",
    "    val_formatted =('%0.2f'%(val)).rjust(5)\n",
    "\n",
    "    pdb_a += line_a.replace(line_a[loc['temp']], val_formatted) + '\\n'\n",
    "    pdb_b += line_b.replace(line_b[loc['temp']], val_formatted) + '\\n'\n",
    "    \n",
    "new_pdb = pdb_a + '\\n' + pdb_b\n",
    "open('loop_check.pdb', 'w').write(new_pdb)"
   ]
  }
 ],
 "metadata": {
  "kernelspec": {
   "display_name": "Python 3",
   "language": "python",
   "name": "python3"
  },
  "language_info": {
   "codemirror_mode": {
    "name": "ipython",
    "version": 3
   },
   "file_extension": ".py",
   "mimetype": "text/x-python",
   "name": "python",
   "nbconvert_exporter": "python",
   "pygments_lexer": "ipython3",
   "version": "3.7.3"
  }
 },
 "nbformat": 4,
 "nbformat_minor": 4
}
