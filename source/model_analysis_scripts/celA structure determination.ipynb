{
 "cells": [
  {
   "cell_type": "markdown",
   "metadata": {},
   "source": [
    "# key:\n",
    "- h: alpha helix\n",
    "- s: beta sheet\n",
    "- \\- : no SS\n",
    "- ?: position not in 3ndy (reference protein)\n",
    "- . :  position not in celA (query protein)"
   ]
  },
  {
   "cell_type": "code",
   "execution_count": 1,
   "metadata": {
    "ExecuteTime": {
     "end_time": "2020-10-11T21:25:01.856762Z",
     "start_time": "2020-10-11T21:25:00.991614Z"
    }
   },
   "outputs": [],
   "source": [
    "import sys\n",
    "import pathlib\n",
    "source_dir = (pathlib.Path.cwd()/'..')\n",
    "sys.path.append(str(source_dir))\n",
    "\n",
    "import dataloader"
   ]
  },
  {
   "cell_type": "code",
   "execution_count": 2,
   "metadata": {
    "ExecuteTime": {
     "end_time": "2020-10-11T21:25:01.913866Z",
     "start_time": "2020-10-11T21:25:01.858797Z"
    }
   },
   "outputs": [],
   "source": [
    "aln_path = '../../sequence_sets/aln_gh5.fasta'\n",
    "aln_dataset = dataloader.MSADataset(aln_path)\n",
    "\n",
    "celA = aln_dataset[0][0].numpy()\n",
    "ndy3 = aln_dataset[1][0].numpy()\n",
    "\n",
    "pdb_path = '../../sequence_sets/3ndy.pdb'\n",
    "pdb_lines = open(pdb_path).read().strip().split('\\n')\n",
    "\n",
    "# atom = slice(13,16)\n",
    "# chain = slice(16,17)\n",
    "# aa = slice(17,20)\n",
    "# poly = slice(21, 22)\n",
    "# resi = slice(22,26)\n",
    "# temp = slice(60,66)\n",
    "\n",
    "# pdb_a = [l for l in pdb_atoms if l[poly]=='A' and (l[chain]==' ' or l[chain]=='A')]\n",
    "\n",
    "a_alt = 16\n",
    "a_chain = 21\n",
    "pdb_atoms = [l for l in pdb_lines if l[0:4]=='ATOM' and l[a_chain]=='A' and (l[a_alt]==' ' or l[a_alt]=='A')]\n",
    "\n",
    "h_chain = 19\n",
    "pdb_helices = [l for l in pdb_lines if l[0:5]=='HELIX' and l[h_chain]=='A' ]\n",
    "\n",
    "s_chain = 21\n",
    "pdb_sheets = [l for l in pdb_lines if l[0:5]=='SHEET' and l[s_chain]=='A' ]"
   ]
  },
  {
   "cell_type": "code",
   "execution_count": 6,
   "metadata": {
    "ExecuteTime": {
     "end_time": "2020-10-11T21:28:52.874691Z",
     "start_time": "2020-10-11T21:28:52.869275Z"
    }
   },
   "outputs": [],
   "source": [
    "helix_start = slice(21,25)\n",
    "helix_end = slice(33,37)\n",
    "helix_pos = [(int(l[helix_start]), int(l[helix_end])+1, 'h') for l in pdb_helices]\n",
    "\n",
    "sheet_start = slice(22,26)\n",
    "sheet_end = slice(33,37)\n",
    "sheet_pos = [(int(l[sheet_start]), int(l[sheet_end])+1, 's') for l in pdb_sheets]"
   ]
  },
  {
   "cell_type": "code",
   "execution_count": 10,
   "metadata": {
    "ExecuteTime": {
     "end_time": "2020-10-11T21:29:56.288962Z",
     "start_time": "2020-10-11T21:29:56.278049Z"
    }
   },
   "outputs": [],
   "source": [
    "all_pos = helix_pos+sheet_pos\n",
    "all_pos = list(set(all_pos)) # removes duplicates\n",
    "list.sort(all_pos, key = lambda pos: pos[0])\n",
    "# print(*all_pos, sep='\\n')\n",
    "\n",
    "ndy3 # reminder\n",
    "ss_labels = []\n",
    "aa_count = 0\n",
    "ss_i = 0\n",
    "for aa in ndy3:\n",
    "    if aa==20:\n",
    "        ss_labels.append('?')\n",
    "    else:\n",
    "        ss_range = all_pos[ss_i]\n",
    "        ss_start = ss_range[0]\n",
    "        ss_end = ss_range[1]\n",
    "        ss_type = ss_range[2]\n",
    "        \n",
    "        if aa_count < ss_start:\n",
    "            ss_labels.append('-')\n",
    "        elif aa_count < ss_end:\n",
    "            ss_labels.append(ss_type)\n",
    "        else:\n",
    "            ss_i +=1\n",
    "        \n",
    "        aa_count += 1\n",
    "        \n",
    "# print(*zip(ss_labels, ndy3), sep='\\t')"
   ]
  },
  {
   "cell_type": "code",
   "execution_count": 20,
   "metadata": {
    "ExecuteTime": {
     "end_time": "2020-10-11T21:35:51.492592Z",
     "start_time": "2020-10-11T21:35:51.481426Z"
    }
   },
   "outputs": [],
   "source": [
    "celA # reminder\n",
    "celA_labels = []\n",
    "\n",
    "for i, (aa,ss) in enumerate(zip(celA, ss_labels)):\n",
    "    if not aa==20:\n",
    "        celA_labels.append(ss)\n",
    "\n",
    "celA_clean = [aa for aa in celA if not aa==20]\n",
    "\n",
    "# print(*zip(celA_labels, celA_clean), sep='\\n')"
   ]
  },
  {
   "cell_type": "code",
   "execution_count": 34,
   "metadata": {
    "ExecuteTime": {
     "end_time": "2020-10-11T21:48:30.727432Z",
     "start_time": "2020-10-11T21:48:29.971526Z"
    }
   },
   "outputs": [],
   "source": [
    "# label training set\n",
    "\n",
    "from read_config import Config\n",
    "import utils\n",
    "\n",
    "config_path = 'configs/model_1000_15.yaml'\n",
    "config = Config(config_path, root_dir = '../..')\n",
    "training_set = utils.get_dataset_from_config(config, transform=None)\n",
    "\n",
    "celA_aln = training_set[0][0]\n",
    "ss_aln = []\n",
    "i = 0\n",
    "for aa in celA_aln:\n",
    "    if aa == 20:\n",
    "        ss_aln.append('.')\n",
    "    else:\n",
    "        ss_aln.append(celA_labels[i])\n",
    "        i +=1"
   ]
  },
  {
   "cell_type": "code",
   "execution_count": 37,
   "metadata": {
    "ExecuteTime": {
     "end_time": "2020-10-11T21:50:02.535542Z",
     "start_time": "2020-10-11T21:50:02.529469Z"
    }
   },
   "outputs": [],
   "source": [
    "import pickle as pkl\n",
    "\n",
    "data = {'query': celA_aln, 'ss': ss_aln}\n",
    "pkl.dump(data, open('training_set_structure.pkl', 'wb'))"
   ]
  }
 ],
 "metadata": {
  "kernelspec": {
   "display_name": "Python 3",
   "language": "python",
   "name": "python3"
  },
  "language_info": {
   "codemirror_mode": {
    "name": "ipython",
    "version": 3
   },
   "file_extension": ".py",
   "mimetype": "text/x-python",
   "name": "python",
   "nbconvert_exporter": "python",
   "pygments_lexer": "ipython3",
   "version": "3.7.3"
  }
 },
 "nbformat": 4,
 "nbformat_minor": 4
}
