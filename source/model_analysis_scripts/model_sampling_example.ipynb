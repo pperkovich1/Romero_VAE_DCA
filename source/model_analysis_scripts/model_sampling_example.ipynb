{
 "cells": [
  {
   "cell_type": "markdown",
   "metadata": {},
   "source": [
    "# Generating sequences from model\n",
    "Code samples 10 times from the first protein in the dataset (WT). Note that the latent vectors of each sequence have already been calculated beforehand, using save_latent_from_config() method in examine_model.py\n",
    "# TODO\n",
    "- Replace pytorch tensors with pandas dataframes. Or possibly np.array()?"
   ]
  },
  {
   "cell_type": "code",
   "execution_count": 2,
   "metadata": {
    "ExecuteTime": {
     "end_time": "2020-10-07T17:58:02.369194Z",
     "start_time": "2020-10-07T17:58:02.257842Z"
    }
   },
   "outputs": [],
   "source": [
    "# libraries\n",
    "import pickle\n",
    "import torch\n",
    "import numpy as np\n",
    "\n",
    "import sys\n",
    "import pathlib\n",
    "source_dir = (pathlib.Path.cwd()/'..')\n",
    "sys.path.append(str(source_dir))\n",
    "\n",
    "# local files\n",
    "from read_config import Config\n",
    "import utils\n",
    "\n"
   ]
  },
  {
   "cell_type": "code",
   "execution_count": 6,
   "metadata": {
    "ExecuteTime": {
     "end_time": "2020-10-07T17:59:45.159448Z",
     "start_time": "2020-10-07T17:59:31.500909Z"
    }
   },
   "outputs": [
    {
     "name": "stdout",
     "output_type": "stream",
     "text": [
      "Loading saved model...\n"
     ]
    }
   ],
   "source": [
    "config_path = 'configs/model_1000_15.yaml'\n",
    "config = Config(config_path, root_dir = '../..')\n",
    "model = utils.load_model_from_config(config)\n",
    "\n",
    "MSA = utils.get_dataset_from_config(config)\n",
    "# dimensions of latent_vecs: seq x (means, log_variances)\n",
    "latent_vecs = pickle.load(open(config.latent_fullpath, 'rb'))['latent']\n",
    "latent_means = [row[0] for row in latent_vecs]\n",
    "latent_log_vars = [row[1] for row in latent_vecs]"
   ]
  },
  {
   "cell_type": "code",
   "execution_count": null,
   "metadata": {
    "ExecuteTime": {
     "end_time": "2020-10-07T17:57:31.331674Z",
     "start_time": "2020-10-07T17:57:30.990Z"
    }
   },
   "outputs": [],
   "source": [
    "# means = latent_means[0]\n",
    "# log_vars = latent_log_vars[0]\n",
    "means = torch.tensor([0.0]*15)\n",
    "log_vars = torch.tensor([0.0]*15)\n",
    "no_var = torch.tensor([-np.inf]*15)\n",
    "\n",
    "sample_size = 1000\n",
    "\n",
    "\n",
    "outputs = []\n",
    "with torch.no_grad():\n",
    "    for i in range(sample_size):\n",
    "        if i==0:\n",
    "            encoding = model.reparameterize(means, no_var)\n",
    "        else:\n",
    "            encoding = model.reparameterize(means, log_vars)\n",
    "        output = model.decoder(encoding)\n",
    "        outputs.append(output)\n",
    "# converst list of 1D tensors into a single 2D tensor\n",
    "outputs = torch.stack(outputs)\n",
    "one_hots = utils.softmax(outputs)\n",
    "# one_hots dimensions before: sample_size x onehotencoding\n",
    "one_hots = one_hots.reshape(sample_size, -1, 21)\n",
    "# onehots dimensions after: sample_size x seq_length x 21_amino_acids"
   ]
  },
  {
   "cell_type": "code",
   "execution_count": null,
   "metadata": {
    "ExecuteTime": {
     "end_time": "2020-10-07T17:57:31.332476Z",
     "start_time": "2020-10-07T17:57:30.991Z"
    }
   },
   "outputs": [],
   "source": [
    "import Bio\n",
    "from Bio import SeqIO\n",
    "\n",
    "aligned = np.array(utils.one_hots_to_proteins(one_hots))\n",
    "\n",
    "seqs = []\n",
    "for i, seq in enumerate(aligned):\n",
    "#     print(''.join(seq))\n",
    "    seq = Bio.Seq.Seq(''.join(seq))\n",
    "    record = Bio.SeqRecord.SeqRecord(seq, id = str(i), name = str(i))\n",
    "    seqs.append(record)\n",
    "\n",
    "# SeqIO.write(seqs, \"origin_samples.fasta\", \"fasta\")\n",
    "print(seqs[0].seq)\n",
    "\n",
    "# seqs = np.array([utils.remove_gaps(seq) for seq in aligned])\n",
    "\n",
    "# for seq in seqs:\n",
    "#     print(len(seq))\n",
    "# for seq in seqs:\n",
    "#     print(''.join(seq))"
   ]
  }
 ],
 "metadata": {
  "kernelspec": {
   "display_name": "Python 3",
   "language": "python",
   "name": "python3"
  },
  "language_info": {
   "codemirror_mode": {
    "name": "ipython",
    "version": 3
   },
   "file_extension": ".py",
   "mimetype": "text/x-python",
   "name": "python",
   "nbconvert_exporter": "python",
   "pygments_lexer": "ipython3",
   "version": "3.7.3"
  }
 },
 "nbformat": 4,
 "nbformat_minor": 4
}
